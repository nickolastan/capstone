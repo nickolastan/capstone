{
 "cells": [
  {
   "cell_type": "code",
   "execution_count": 6,
   "metadata": {},
   "outputs": [],
   "source": [
    "import pandas as pd\n",
    "import numpy as np\n",
    "from numpy import asarray\n",
    "from numpy import zeros\n",
    "import datetime\n",
    "\n",
    "import re\n",
    "import nltk\n",
    "from nltk.corpus import stopwords\n",
    "from nltk.stem import WordNetLemmatizer \n",
    "from nltk.stem.snowball import SnowballStemmer\n",
    "\n",
    "import logging\n",
    "\n",
    "from sklearn.model_selection import train_test_split\n",
    "from sklearn.metrics import classification_report\n",
    "\n",
    "from sklearn.svm import LinearSVC\n",
    "#from sklearn.linear_model import SGDClassifier\n",
    "from sklearn.linear_model import LogisticRegression\n",
    "#from sklearn.ensemble import GradientBoostingClassifier\n",
    "\n",
    "from sklearn.model_selection import GridSearchCV\n",
    "from sklearn.ensemble import RandomForestClassifier\n",
    "\n",
    "from sklearn.preprocessing import StandardScaler\n",
    "\n",
    "from sklearn.naive_bayes import MultinomialNB\n",
    "# from sklearn.pipeline import Pipeline\n",
    "\n",
    "from sklearn.feature_extraction.text import CountVectorizer, TfidfVectorizer\n",
    "from vaderSentiment.vaderSentiment import SentimentIntensityAnalyzer\n",
    "\n",
    "import spacy\n",
    "\n",
    "import gensim\n",
    "from gensim.models import Word2Vec\n",
    "\n",
    "from tensorflow.keras.models import Sequential\n",
    "from tensorflow.python.keras.layers import Dense\n",
    "from sklearn.preprocessing import MinMaxScaler\n",
    "from tensorflow.python.keras.preprocessing.text import Tokenizer, one_hot\n",
    "from tensorflow.python.keras.preprocessing.sequence import pad_sequences\n",
    "from tensorflow.python.keras.callbacks import EarlyStopping, ModelCheckpoint\n",
    "from tensorflow.python.keras.layers.convolutional import Conv1D\n",
    "from tensorflow.python.keras.layers.convolutional import MaxPooling1D\n",
    "from tensorflow.python.keras.layers import LSTM, Embedding, SpatialDropout1D, Dropout\n",
    "\n",
    "from sklearn.metrics import confusion_matrix, accuracy_score\n",
    "from sklearn.utils.multiclass import unique_labels\n",
    "\n",
    "import matplotlib.pyplot as plt\n",
    "%matplotlib inline\n",
    "\n",
    "ss = StandardScaler()"
   ]
  },
  {
   "cell_type": "code",
   "execution_count": 7,
   "metadata": {},
   "outputs": [],
   "source": [
    "#! pip install tensorflow\n",
    "#! pip install spacy\n",
    "#! pip install keras\n",
    "#! pip install tensorflow-hub"
   ]
  },
  {
   "cell_type": "code",
   "execution_count": 8,
   "metadata": {},
   "outputs": [],
   "source": [
    "# import nltk\n",
    "# nltk.download(\"popular\")"
   ]
  },
  {
   "cell_type": "code",
   "execution_count": 9,
   "metadata": {},
   "outputs": [],
   "source": [
    "df = pd.read_csv('text_emotion.csv')\n",
    "#df = pd.read_csv('https://d1p17r2m4rzlbo.cloudfront.net/wp-content/uploads/2016/07/text_emotion.csv')"
   ]
  },
  {
   "cell_type": "code",
   "execution_count": 10,
   "metadata": {},
   "outputs": [
    {
     "name": "stdout",
     "output_type": "stream",
     "text": [
      "<class 'pandas.core.frame.DataFrame'>\n",
      "RangeIndex: 40000 entries, 0 to 39999\n",
      "Data columns (total 4 columns):\n",
      "tweet_id     40000 non-null int64\n",
      "sentiment    40000 non-null object\n",
      "author       40000 non-null object\n",
      "content      40000 non-null object\n",
      "dtypes: int64(1), object(3)\n",
      "memory usage: 1.2+ MB\n"
     ]
    }
   ],
   "source": [
    "df.info()"
   ]
  },
  {
   "cell_type": "code",
   "execution_count": 11,
   "metadata": {
    "scrolled": true
   },
   "outputs": [
    {
     "data": {
      "image/png": "[encoded data removed]",
      "text/plain": [
       "<Figure size 432x288 with 1 Axes>"
      ]
     },
     "metadata": {
      "needs_background": "light"
     },
     "output_type": "display_data"
    }
   ],
   "source": [
    "df.groupby('sentiment')['author'].count().plot.bar()\n",
    "plt.ylabel('Frequency');"
   ]
  },
  {
   "cell_type": "code",
   "execution_count": 12,
   "metadata": {},
   "outputs": [
    {
     "data": {
      "text/plain": [
       "sentiment\n",
       "anger          110\n",
       "boredom        179\n",
       "enthusiasm     759\n",
       "empty          827\n",
       "hate          1323\n",
       "relief        1526\n",
       "fun           1776\n",
       "surprise      2187\n",
       "love          3842\n",
       "sadness       5165\n",
       "happiness     5209\n",
       "worry         8459\n",
       "neutral       8638\n",
       "Name: author, dtype: int64"
      ]
     },
     "execution_count": 12,
     "metadata": {},
     "output_type": "execute_result"
    }
   ],
   "source": [
    "df.groupby('sentiment')['author'].count().sort_values()"
   ]
  },
  {
   "cell_type": "code",
   "execution_count": 13,
   "metadata": {},
   "outputs": [],
   "source": [
    "# # reduce to 5 classes\n",
    "# df['sentiment'] = df['sentiment'].apply(lambda x: 'neutral' if x == 'empty' else x)\n",
    "# df['sentiment'] = df['sentiment'].apply(lambda x: 'others' if x in ['anger','boredom','enthusiasm','hate','relief','fun','surprise','love'] else x)\n",
    "# df.groupby('sentiment')['author'].count().sort_values()"
   ]
  },
  {
   "cell_type": "code",
   "execution_count": 14,
   "metadata": {},
   "outputs": [
    {
     "data": {
      "text/plain": [
       "sentiment\n",
       "anger          110\n",
       "boredom        179\n",
       "enthusiasm     759\n",
       "hate          1323\n",
       "relief        1526\n",
       "fun           1776\n",
       "surprise      2187\n",
       "love          3842\n",
       "sadness       5165\n",
       "happiness     5209\n",
       "worry         8459\n",
       "neutral       9465\n",
       "Name: author, dtype: int64"
      ]
     },
     "execution_count": 14,
     "metadata": {},
     "output_type": "execute_result"
    }
   ],
   "source": [
    "# pos =['enthusiasm','relief','fun','surprise','love','happiness']\n",
    "# neg =['anger','boredom','hate','sadness','worry']\n",
    "\n",
    "df['sentiment'] = df['sentiment'].apply(lambda x: 'neutral' if x == 'empty' else x)\n",
    "# df['sentiment'] = df['sentiment'].apply(lambda x: 'positive' if x in pos else x)\n",
    "# df['sentiment'] = df['sentiment'].apply(lambda x: 'negative' if x in neg else x)\n",
    "df.groupby('sentiment')['author'].count().sort_values()"
   ]
  },
  {
   "cell_type": "code",
   "execution_count": 15,
   "metadata": {},
   "outputs": [],
   "source": [
    "df.drop(index=df[df['sentiment'].isin(['anger','boredom','enthusiasm'])].index,inplace=True)"
   ]
  },
  {
   "cell_type": "code",
   "execution_count": 16,
   "metadata": {},
   "outputs": [],
   "source": [
    "#drop unnecessary data\n",
    "df.drop(columns=['author','tweet_id'],inplace=True)\n",
    "df.reset_index(drop=True,inplace=True)"
   ]
  },
  {
   "cell_type": "code",
   "execution_count": 17,
   "metadata": {},
   "outputs": [],
   "source": [
    "#df = df[(df['sentiment'] == 'happiness') | (df['sentiment'] == 'sadness') | (df['sentiment'] == 'neutral')]# | (df['sentiment'] == 'worry')]"
   ]
  },
  {
   "cell_type": "code",
   "execution_count": 18,
   "metadata": {},
   "outputs": [],
   "source": [
    "labels, features = df.sentiment.factorize()"
   ]
  },
  {
   "cell_type": "code",
   "execution_count": 19,
   "metadata": {},
   "outputs": [],
   "source": [
    "df['label'] = labels"
   ]
  },
  {
   "cell_type": "code",
   "execution_count": 20,
   "metadata": {},
   "outputs": [
    {
     "data": {
      "text/html": [
       "<div>\n",
       "<style scoped>\n",
       "    .dataframe tbody tr th:only-of-type {\n",
       "        vertical-align: middle;\n",
       "    }\n",
       "\n",
       "    .dataframe tbody tr th {\n",
       "        vertical-align: top;\n",
       "    }\n",
       "\n",
       "    .dataframe thead th {\n",
       "        text-align: right;\n",
       "    }\n",
       "</style>\n",
       "<table border=\"1\" class=\"dataframe\">\n",
       "  <thead>\n",
       "    <tr style=\"text-align: right;\">\n",
       "      <th></th>\n",
       "      <th>0</th>\n",
       "    </tr>\n",
       "  </thead>\n",
       "  <tbody>\n",
       "    <tr>\n",
       "      <th>0</th>\n",
       "      <td>neutral</td>\n",
       "    </tr>\n",
       "    <tr>\n",
       "      <th>1</th>\n",
       "      <td>sadness</td>\n",
       "    </tr>\n",
       "    <tr>\n",
       "      <th>2</th>\n",
       "      <td>worry</td>\n",
       "    </tr>\n",
       "    <tr>\n",
       "      <th>3</th>\n",
       "      <td>surprise</td>\n",
       "    </tr>\n",
       "    <tr>\n",
       "      <th>4</th>\n",
       "      <td>love</td>\n",
       "    </tr>\n",
       "    <tr>\n",
       "      <th>5</th>\n",
       "      <td>fun</td>\n",
       "    </tr>\n",
       "    <tr>\n",
       "      <th>6</th>\n",
       "      <td>hate</td>\n",
       "    </tr>\n",
       "    <tr>\n",
       "      <th>7</th>\n",
       "      <td>happiness</td>\n",
       "    </tr>\n",
       "    <tr>\n",
       "      <th>8</th>\n",
       "      <td>relief</td>\n",
       "    </tr>\n",
       "  </tbody>\n",
       "</table>\n",
       "</div>"
      ],
      "text/plain": [
       "           0\n",
       "0    neutral\n",
       "1    sadness\n",
       "2      worry\n",
       "3   surprise\n",
       "4       love\n",
       "5        fun\n",
       "6       hate\n",
       "7  happiness\n",
       "8     relief"
      ]
     },
     "execution_count": 20,
     "metadata": {},
     "output_type": "execute_result"
    }
   ],
   "source": [
    "pd.DataFrame(dict(zip(range(12), features)),index=[0]).transpose()"
   ]
  },
  {
   "cell_type": "code",
   "execution_count": 21,
   "metadata": {
    "scrolled": true
   },
   "outputs": [],
   "source": [
    "# # data cleaning to remove @user from content\n",
    "\n",
    "df['content'] = df['content'].apply(lambda x: ' '.join(\n",
    "    word for word in x.split(' ') if not word.startswith('@')))"
   ]
  },
  {
   "cell_type": "code",
   "execution_count": 22,
   "metadata": {},
   "outputs": [],
   "source": [
    "df['content'] = df['content'].apply(lambda x: ' '.join(\n",
    "    word for word in x.split(' ') if not word.startswith('http')))"
   ]
  },
  {
   "cell_type": "code",
   "execution_count": 23,
   "metadata": {},
   "outputs": [],
   "source": [
    "def counting(words):\n",
    "    count = 0\n",
    "    for word in words.split(' '):\n",
    "        count+=1\n",
    "    return count\n",
    "\n",
    "df['count'] = df['content'].apply(counting)"
   ]
  },
  {
   "cell_type": "code",
   "execution_count": 24,
   "metadata": {},
   "outputs": [
    {
     "data": {
      "text/plain": [
       "9"
      ]
     },
     "execution_count": 24,
     "metadata": {},
     "output_type": "execute_result"
    }
   ],
   "source": [
    "len(features)"
   ]
  },
  {
   "cell_type": "code",
   "execution_count": 25,
   "metadata": {},
   "outputs": [],
   "source": [
    "REPLACE_BY_SPACE_RE = re.compile('[/(){}\\[\\]\\|@,;]')\n",
    "BAD_SYMBOLS_RE = re.compile('[^0-9a-z #+_]')\n",
    "STOPWORDS = set(stopwords.words('english'))\n",
    "\n",
    "def clean_text(text):\n",
    "    \"\"\"\n",
    "        text: a string\n",
    "        \n",
    "        return: modified initial string\n",
    "    \"\"\"\n",
    "    text = text.lower() # lowercase text\n",
    "    text = REPLACE_BY_SPACE_RE.sub(' ', text) # replace REPLACE_BY_SPACE_RE symbols by space in text. substitute the matched string in REPLACE_BY_SPACE_RE with space.\n",
    "    text = BAD_SYMBOLS_RE.sub('', text) # remove symbols which are in BAD_SYMBOLS_RE from text. substitute the matched string in BAD_SYMBOLS_RE with nothing. \n",
    "    text = re.sub(r\"[^A-Za-z0-9^,!.\\/'+-=]\", \" \", text)\n",
    "    text = re.sub(r\"what's\", \"what is \", text)\n",
    "    text = re.sub(r\"\\'s\", \" \", text)\n",
    "    text = re.sub(r\"\\'ve\", \" have \", text)\n",
    "    text = re.sub(r\"n't\", \" not \", text)\n",
    "    text = re.sub(r\"i'm\", \"i am \", text)\n",
    "    text = re.sub(r\"\\'re\", \" are \", text)\n",
    "    text = re.sub(r\"\\'d\", \" would \", text)\n",
    "    text = re.sub(r\"\\'ll\", \" will \", text)\n",
    "    text = re.sub(r\",\", \" \", text)\n",
    "    text = re.sub(r\"\\.\", \" \", text)\n",
    "    text = re.sub(r\"!\", \" ! \", text)\n",
    "    text = re.sub(r\"\\/\", \" \", text)\n",
    "    text = re.sub(r\"\\^\", \" ^ \", text)\n",
    "    text = re.sub(r\"\\+\", \" + \", text)\n",
    "    text = re.sub(r\"\\-\", \" - \", text)\n",
    "    text = re.sub(r\"\\=\", \" = \", text)\n",
    "    text = re.sub(r\"'\", \" \", text)\n",
    "    text = re.sub(r\"(\\d+)(k)\", r\"\\g<1>000\", text)\n",
    "    text = re.sub(r\":\", \" : \", text)\n",
    "    text = re.sub(r\" e g \", \" eg \", text)\n",
    "    text = re.sub(r\" b g \", \" bg \", text)\n",
    "    text = re.sub(r\" u s \", \" american \", text)\n",
    "    text = re.sub(r\"\\0s\", \"0\", text)\n",
    "    text = re.sub(r\" 9 11 \", \"911\", text)\n",
    "    text = re.sub(r\"e - mail\", \"email\", text)\n",
    "    text = re.sub(r\"j k\", \"jk\", text)\n",
    "    text = re.sub(r\"\\s{2,}\", \" \", text)\n",
    "    stemmer = SnowballStemmer('english')\n",
    "    text = ' '.join(stemmer.stem(word) for word in text.split() if word not in STOPWORDS) # remove stopwors from text\n",
    "    return text\n",
    "\n",
    "df['content'] = df['content'].apply(clean_text)"
   ]
  },
  {
   "cell_type": "code",
   "execution_count": 26,
   "metadata": {},
   "outputs": [],
   "source": [
    "#drop empty content\n",
    "\n",
    "df.drop(index=df[df['content']==''].index,inplace=True)\n",
    "df.drop(index=df[df['content']=='0'].index,inplace=True)"
   ]
  },
  {
   "cell_type": "code",
   "execution_count": 27,
   "metadata": {},
   "outputs": [
    {
     "name": "stdout",
     "output_type": "stream",
     "text": [
      "<class 'pandas.core.frame.DataFrame'>\n",
      "Int64Index: 38744 entries, 0 to 38951\n",
      "Data columns (total 4 columns):\n",
      "sentiment    38744 non-null object\n",
      "content      38744 non-null object\n",
      "label        38744 non-null int64\n",
      "count        38744 non-null int64\n",
      "dtypes: int64(2), object(2)\n",
      "memory usage: 1.5+ MB\n"
     ]
    }
   ],
   "source": [
    "df.info()"
   ]
  },
  {
   "cell_type": "code",
   "execution_count": 28,
   "metadata": {},
   "outputs": [],
   "source": [
    "df.reset_index(drop=True,inplace=True)"
   ]
  },
  {
   "cell_type": "code",
   "execution_count": 29,
   "metadata": {},
   "outputs": [],
   "source": [
    "def modelfit(X_train, X_test, y_train, y_test):\n",
    "\n",
    "    models = [(LogisticRegression(class_weight='balanced', random_state=42, \n",
    "                                  multi_class='multinomial', solver='lbfgs',max_iter=500), \n",
    "                                   {'C': [0.1, 1, 10], 'penalty':['l2']}),\n",
    "              (RandomForestClassifier(class_weight='balanced', random_state=42, \n",
    "                                      n_estimators=1000), {'max_depth': [10, 20, 30]})]\n",
    "\n",
    "    class_names = features\n",
    "\n",
    "    for model, parameters in models:\n",
    "        print(model)\n",
    "        clf = GridSearchCV(model, parameters, n_jobs=3, cv=3)\n",
    "        clf.fit(X_train, y_train)\n",
    "        print(clf.best_params_)\n",
    "        y_pred = clf.predict(X_test)\n",
    "        print('accuracy %s' % accuracy_score(y_pred, y_test))\n",
    "        print(classification_report(y_test, y_pred, target_names=features))\n",
    "\n",
    "    return None"
   ]
  },
  {
   "cell_type": "markdown",
   "metadata": {},
   "source": [
    "## Feature engineering"
   ]
  },
  {
   "cell_type": "code",
   "execution_count": 30,
   "metadata": {},
   "outputs": [],
   "source": [
    "analyser = SentimentIntensityAnalyzer()\n",
    "\n",
    "term = ['compound','neg','neu','pos']\n",
    "\n",
    "for t in term:\n",
    "    df[t]=df['content'].apply(lambda x : analyser.polarity_scores(x)[t])"
   ]
  },
  {
   "cell_type": "code",
   "execution_count": 32,
   "metadata": {},
   "outputs": [
    {
     "name": "stdout",
     "output_type": "stream",
     "text": [
      "0 1000 2000 3000 4000 5000 6000 7000 8000 9000 10000 11000 12000 13000 14000 15000 16000 17000 18000 19000 20000 21000 22000 23000 24000 25000 26000 27000 28000 29000 30000 31000 32000 33000 34000 35000 36000 37000 38000 ['ADJ' 'ADP' 'ADV' 'AUX' 'CCONJ' 'DET' 'INTJ' 'NOUN' 'NUM' 'PART' 'PRON'\n",
      " 'PROPN' 'PUNCT' 'SYM' 'VERB' 'X']\n",
      "0 1000 2000 3000 4000 5000 6000 7000 8000 9000 10000 11000 12000 13000 14000 15000 16000 17000 18000 19000 20000 21000 22000 23000 24000 25000 26000 27000 28000 29000 30000 31000 32000 33000 34000 35000 36000 37000 38000 "
     ]
    }
   ],
   "source": [
    "en_nlp = spacy.load('en')\n",
    "\n",
    "parsed_quotes = []\n",
    "for i, parsed in enumerate(en_nlp.pipe(df.content.values, batch_size=50, n_threads=4)):\n",
    "    assert parsed.is_parsed\n",
    "    if (i % 1000) == 0:\n",
    "        print(i, end=' ')\n",
    "    parsed_quotes.append(parsed)        \n",
    "\n",
    "unique_pos = []\n",
    "for parsed in parsed_quotes:\n",
    "    unique_pos.extend([t.pos_ for t in parsed])\n",
    "unique_pos = np.unique(unique_pos)\n",
    "print(unique_pos)\n",
    "\n",
    "for pos in unique_pos:\n",
    "    df[pos+'_prop'] = 0.\n",
    "    \n",
    "df = df.reset_index(drop=True)\n",
    "for i, parsed in enumerate(parsed_quotes):\n",
    "    if (i % 1000) == 0:\n",
    "        print(i, end=' ')\n",
    "    parsed_len = len(parsed)\n",
    "    for pos in unique_pos:\n",
    "        count = len([x for x in parsed if x.pos_ == pos])\n",
    "        df.loc[i, pos+'_prop'] = float(count)/parsed_len"
   ]
  },
  {
   "cell_type": "code",
   "execution_count": 33,
   "metadata": {},
   "outputs": [],
   "source": [
    "# save to file\n",
    "df.to_csv('formated_9class.csv')"
   ]
  },
  {
   "cell_type": "markdown",
   "metadata": {},
   "source": [
    "## Model fitting"
   ]
  },
  {
   "cell_type": "code",
   "execution_count": 2,
   "metadata": {},
   "outputs": [],
   "source": [
    "df = pd.read_csv('formated_9class.csv')"
   ]
  },
  {
   "cell_type": "code",
   "execution_count": 34,
   "metadata": {
    "scrolled": false
   },
   "outputs": [
    {
     "name": "stdout",
     "output_type": "stream",
     "text": [
      "LogisticRegression(C=1.0, class_weight='balanced', dual=False,\n",
      "          fit_intercept=True, intercept_scaling=1, max_iter=500,\n",
      "          multi_class='multinomial', n_jobs=None, penalty='l2',\n",
      "          random_state=42, solver='lbfgs', tol=0.0001, verbose=0,\n",
      "          warm_start=False)\n"
     ]
    },
    {
     "name": "stderr",
     "output_type": "stream",
     "text": [
      "/anaconda3/lib/python3.7/site-packages/sklearn/preprocessing/data.py:625: DataConversionWarning: Data with input dtype int64, float64 were all converted to float64 by StandardScaler.\n",
      "  return self.partial_fit(X, y)\n",
      "/anaconda3/lib/python3.7/site-packages/sklearn/base.py:462: DataConversionWarning: Data with input dtype int64, float64 were all converted to float64 by StandardScaler.\n",
      "  return self.fit(X, **fit_params).transform(X)\n"
     ]
    },
    {
     "name": "stdout",
     "output_type": "stream",
     "text": [
      "{'C': 10, 'penalty': 'l2'}\n",
      "accuracy 0.22506129823202994\n",
      "              precision    recall  f1-score   support\n",
      "\n",
      "     neutral       0.39      0.42      0.40      1862\n",
      "     sadness       0.27      0.12      0.16      1031\n",
      "       worry       0.35      0.09      0.14      1687\n",
      "    surprise       0.07      0.07      0.07       436\n",
      "        love       0.23      0.46      0.31       768\n",
      "         fun       0.07      0.09      0.08       355\n",
      "        hate       0.10      0.55      0.17       264\n",
      "   happiness       0.22      0.10      0.14      1041\n",
      "      relief       0.06      0.12      0.08       305\n",
      "\n",
      "   micro avg       0.23      0.23      0.23      7749\n",
      "   macro avg       0.20      0.22      0.17      7749\n",
      "weighted avg       0.27      0.23      0.21      7749\n",
      "\n",
      "RandomForestClassifier(bootstrap=True, class_weight='balanced',\n",
      "            criterion='gini', max_depth=None, max_features='auto',\n",
      "            max_leaf_nodes=None, min_impurity_decrease=0.0,\n",
      "            min_impurity_split=None, min_samples_leaf=1,\n",
      "            min_samples_split=2, min_weight_fraction_leaf=0.0,\n",
      "            n_estimators=1000, n_jobs=None, oob_score=False,\n",
      "            random_state=42, verbose=0, warm_start=False)\n",
      "{'max_depth': 20}\n",
      "accuracy 0.273841786036908\n",
      "              precision    recall  f1-score   support\n",
      "\n",
      "     neutral       0.37      0.39      0.38      1862\n",
      "     sadness       0.21      0.16      0.18      1031\n",
      "       worry       0.30      0.37      0.33      1687\n",
      "    surprise       0.07      0.04      0.05       436\n",
      "        love       0.31      0.33      0.32       768\n",
      "         fun       0.05      0.04      0.05       355\n",
      "        hate       0.17      0.12      0.14       264\n",
      "   happiness       0.24      0.27      0.25      1041\n",
      "      relief       0.04      0.03      0.03       305\n",
      "\n",
      "   micro avg       0.27      0.27      0.27      7749\n",
      "   macro avg       0.19      0.19      0.19      7749\n",
      "weighted avg       0.26      0.27      0.26      7749\n",
      "\n"
     ]
    }
   ],
   "source": [
    "# without countvectorizer\n",
    "\n",
    "X = df.drop(columns=['label','content','sentiment'])\n",
    "y = df['label']\n",
    "\n",
    "X = ss.fit_transform(X)\n",
    "\n",
    "X_train, X_test, y_train, y_test = train_test_split(\n",
    "    X, y, test_size=0.2, random_state=42, stratify=y)\n",
    "\n",
    "\n",
    "# from imblearn.over_sampling import SMOTE\n",
    "\n",
    "# sm = SMOTE(random_state=42,sampling_strategy='all')\n",
    "# X_res, y_res = sm.fit_resample(X_train, y_train)\n",
    "\n",
    "# print(X_res.shape, y_res.shape)\n",
    "\n",
    "modelfit(X_train, X_test, y_train, y_test)"
   ]
  },
  {
   "cell_type": "code",
   "execution_count": 37,
   "metadata": {},
   "outputs": [
    {
     "name": "stdout",
     "output_type": "stream",
     "text": [
      "accuracy 0.3332042844237966\n",
      "              precision    recall  f1-score   support\n",
      "\n",
      "     neutral       0.31      0.62      0.41      1862\n",
      "     sadness       0.39      0.10      0.16      1031\n",
      "       worry       0.33      0.55      0.41      1687\n",
      "    surprise       0.00      0.00      0.00       436\n",
      "        love       0.54      0.24      0.33       768\n",
      "         fun       0.00      0.00      0.00       355\n",
      "        hate       1.00      0.00      0.01       264\n",
      "   happiness       0.38      0.21      0.27      1041\n",
      "      relief       0.00      0.00      0.00       305\n",
      "\n",
      "   micro avg       0.33      0.33      0.33      7749\n",
      "   macro avg       0.33      0.19      0.18      7749\n",
      "weighted avg       0.34      0.33      0.28      7749\n",
      "\n"
     ]
    },
    {
     "name": "stderr",
     "output_type": "stream",
     "text": [
      "/anaconda3/lib/python3.7/site-packages/sklearn/metrics/classification.py:1143: UndefinedMetricWarning: Precision and F-score are ill-defined and being set to 0.0 in labels with no predicted samples.\n",
      "  'precision', 'predicted', average, warn_for)\n"
     ]
    }
   ],
   "source": [
    "# countvectorizer only\n",
    "\n",
    "vectorizer = TfidfVectorizer(ngram_range=(1,2),min_df=0.0001)\n",
    "X_vec = vectorizer.fit_transform(df['content'])\n",
    "y = df['label']\n",
    "\n",
    "X_train, X_test, y_train, y_test = train_test_split(X_vec, y, test_size=0.2, random_state = 42, stratify = y)\n",
    "\n",
    "model = MultinomialNB()\n",
    "model.fit(X_train, y_train)\n",
    "y_pred = model.predict(X_test)\n",
    "print('accuracy %s' % accuracy_score(y_pred, y_test))\n",
    "print(classification_report(y_test, y_pred,target_names=features))"
   ]
  },
  {
   "cell_type": "code",
   "execution_count": 38,
   "metadata": {},
   "outputs": [
    {
     "name": "stdout",
     "output_type": "stream",
     "text": [
      "LogisticRegression(C=1.0, class_weight='balanced', dual=False,\n",
      "          fit_intercept=True, intercept_scaling=1, max_iter=500,\n",
      "          multi_class='multinomial', n_jobs=None, penalty='l2',\n",
      "          random_state=42, solver='lbfgs', tol=0.0001, verbose=0,\n",
      "          warm_start=False)\n",
      "{'C': 1, 'penalty': 'l2'}\n",
      "accuracy 0.30842689379274746\n",
      "              precision    recall  f1-score   support\n",
      "\n",
      "     neutral       0.44      0.34      0.38      1862\n",
      "     sadness       0.32      0.31      0.31      1031\n",
      "       worry       0.43      0.27      0.33      1687\n",
      "    surprise       0.12      0.20      0.15       436\n",
      "        love       0.43      0.45      0.44       768\n",
      "         fun       0.13      0.28      0.17       355\n",
      "        hate       0.20      0.43      0.28       264\n",
      "   happiness       0.35      0.26      0.29      1041\n",
      "      relief       0.12      0.26      0.16       305\n",
      "\n",
      "   micro avg       0.31      0.31      0.31      7749\n",
      "   macro avg       0.28      0.31      0.28      7749\n",
      "weighted avg       0.36      0.31      0.32      7749\n",
      "\n",
      "RandomForestClassifier(bootstrap=True, class_weight='balanced',\n",
      "            criterion='gini', max_depth=None, max_features='auto',\n",
      "            max_leaf_nodes=None, min_impurity_decrease=0.0,\n",
      "            min_impurity_split=None, min_samples_leaf=1,\n",
      "            min_samples_split=2, min_weight_fraction_leaf=0.0,\n",
      "            n_estimators=1000, n_jobs=None, oob_score=False,\n",
      "            random_state=42, verbose=0, warm_start=False)\n",
      "{'max_depth': 30}\n",
      "accuracy 0.3446896373725642\n",
      "              precision    recall  f1-score   support\n",
      "\n",
      "     neutral       0.37      0.63      0.47      1862\n",
      "     sadness       0.35      0.24      0.29      1031\n",
      "       worry       0.43      0.20      0.27      1687\n",
      "    surprise       0.18      0.12      0.14       436\n",
      "        love       0.45      0.46      0.46       768\n",
      "         fun       0.17      0.20      0.18       355\n",
      "        hate       0.25      0.42      0.32       264\n",
      "   happiness       0.33      0.27      0.30      1041\n",
      "      relief       0.15      0.18      0.17       305\n",
      "\n",
      "   micro avg       0.34      0.34      0.34      7749\n",
      "   macro avg       0.30      0.30      0.29      7749\n",
      "weighted avg       0.35      0.34      0.33      7749\n",
      "\n"
     ]
    }
   ],
   "source": [
    "modelfit(X_train, X_test, y_train, y_test)"
   ]
  },
  {
   "cell_type": "code",
   "execution_count": 39,
   "metadata": {},
   "outputs": [
    {
     "name": "stdout",
     "output_type": "stream",
     "text": [
      "(38744, 21) (38744, 11257)\n",
      "(38744, 11278)\n",
      "(30995, 11278) (30995,)\n"
     ]
    }
   ],
   "source": [
    "# countvectorizer + features\n",
    "\n",
    "print(X.shape,X_vec.shape)\n",
    "X = np.concatenate((X,X_vec.toarray()),axis=1)\n",
    "print(X.shape)\n",
    "y = df['label']\n",
    "\n",
    "X_train, X_test, y_train, y_test = train_test_split(X, y, test_size=0.2, random_state = 42, stratify = y)\n",
    "\n",
    "print(X_train.shape,y_train.shape)\n"
   ]
  },
  {
   "cell_type": "code",
   "execution_count": 40,
   "metadata": {},
   "outputs": [
    {
     "name": "stdout",
     "output_type": "stream",
     "text": [
      "LogisticRegression(C=1.0, class_weight='balanced', dual=False,\n",
      "          fit_intercept=True, intercept_scaling=1, max_iter=500,\n",
      "          multi_class='multinomial', n_jobs=None, penalty='l2',\n",
      "          random_state=42, solver='lbfgs', tol=0.0001, verbose=0,\n",
      "          warm_start=False)\n"
     ]
    },
    {
     "ename": "KeyboardInterrupt",
     "evalue": "",
     "output_type": "error",
     "traceback": [
      "\u001b[0;31m---------------------------------------------------------------------------\u001b[0m",
      "\u001b[0;31mKeyboardInterrupt\u001b[0m                         Traceback (most recent call last)",
      "\u001b[0;32m<ipython-input-40-de6974cdd2d4>\u001b[0m in \u001b[0;36m<module>\u001b[0;34m\u001b[0m\n\u001b[0;32m----> 1\u001b[0;31m \u001b[0mmodelfit\u001b[0m\u001b[0;34m(\u001b[0m\u001b[0mX_train\u001b[0m\u001b[0;34m,\u001b[0m \u001b[0mX_test\u001b[0m\u001b[0;34m,\u001b[0m \u001b[0my_train\u001b[0m\u001b[0;34m,\u001b[0m \u001b[0my_test\u001b[0m\u001b[0;34m)\u001b[0m\u001b[0;34m\u001b[0m\u001b[0;34m\u001b[0m\u001b[0m\n\u001b[0m",
      "\u001b[0;32m<ipython-input-29-4a9d698357f1>\u001b[0m in \u001b[0;36mmodelfit\u001b[0;34m(X_train, X_test, y_train, y_test)\u001b[0m\n\u001b[1;32m     12\u001b[0m         \u001b[0mprint\u001b[0m\u001b[0;34m(\u001b[0m\u001b[0mmodel\u001b[0m\u001b[0;34m)\u001b[0m\u001b[0;34m\u001b[0m\u001b[0;34m\u001b[0m\u001b[0m\n\u001b[1;32m     13\u001b[0m         \u001b[0mclf\u001b[0m \u001b[0;34m=\u001b[0m \u001b[0mGridSearchCV\u001b[0m\u001b[0;34m(\u001b[0m\u001b[0mmodel\u001b[0m\u001b[0;34m,\u001b[0m \u001b[0mparameters\u001b[0m\u001b[0;34m,\u001b[0m \u001b[0mn_jobs\u001b[0m\u001b[0;34m=\u001b[0m\u001b[0;36m3\u001b[0m\u001b[0;34m,\u001b[0m \u001b[0mcv\u001b[0m\u001b[0;34m=\u001b[0m\u001b[0;36m3\u001b[0m\u001b[0;34m)\u001b[0m\u001b[0;34m\u001b[0m\u001b[0;34m\u001b[0m\u001b[0m\n\u001b[0;32m---> 14\u001b[0;31m         \u001b[0mclf\u001b[0m\u001b[0;34m.\u001b[0m\u001b[0mfit\u001b[0m\u001b[0;34m(\u001b[0m\u001b[0mX_train\u001b[0m\u001b[0;34m,\u001b[0m \u001b[0my_train\u001b[0m\u001b[0;34m)\u001b[0m\u001b[0;34m\u001b[0m\u001b[0;34m\u001b[0m\u001b[0m\n\u001b[0m\u001b[1;32m     15\u001b[0m         \u001b[0mprint\u001b[0m\u001b[0;34m(\u001b[0m\u001b[0mclf\u001b[0m\u001b[0;34m.\u001b[0m\u001b[0mbest_params_\u001b[0m\u001b[0;34m)\u001b[0m\u001b[0;34m\u001b[0m\u001b[0;34m\u001b[0m\u001b[0m\n\u001b[1;32m     16\u001b[0m         \u001b[0my_pred\u001b[0m \u001b[0;34m=\u001b[0m \u001b[0mclf\u001b[0m\u001b[0;34m.\u001b[0m\u001b[0mpredict\u001b[0m\u001b[0;34m(\u001b[0m\u001b[0mX_test\u001b[0m\u001b[0;34m)\u001b[0m\u001b[0;34m\u001b[0m\u001b[0;34m\u001b[0m\u001b[0m\n",
      "\u001b[0;32m/anaconda3/lib/python3.7/site-packages/sklearn/model_selection/_search.py\u001b[0m in \u001b[0;36mfit\u001b[0;34m(self, X, y, groups, **fit_params)\u001b[0m\n\u001b[1;32m    720\u001b[0m                 \u001b[0;32mreturn\u001b[0m \u001b[0mresults_container\u001b[0m\u001b[0;34m[\u001b[0m\u001b[0;36m0\u001b[0m\u001b[0;34m]\u001b[0m\u001b[0;34m\u001b[0m\u001b[0;34m\u001b[0m\u001b[0m\n\u001b[1;32m    721\u001b[0m \u001b[0;34m\u001b[0m\u001b[0m\n\u001b[0;32m--> 722\u001b[0;31m             \u001b[0mself\u001b[0m\u001b[0;34m.\u001b[0m\u001b[0m_run_search\u001b[0m\u001b[0;34m(\u001b[0m\u001b[0mevaluate_candidates\u001b[0m\u001b[0;34m)\u001b[0m\u001b[0;34m\u001b[0m\u001b[0;34m\u001b[0m\u001b[0m\n\u001b[0m\u001b[1;32m    723\u001b[0m \u001b[0;34m\u001b[0m\u001b[0m\n\u001b[1;32m    724\u001b[0m         \u001b[0mresults\u001b[0m \u001b[0;34m=\u001b[0m \u001b[0mresults_container\u001b[0m\u001b[0;34m[\u001b[0m\u001b[0;36m0\u001b[0m\u001b[0;34m]\u001b[0m\u001b[0;34m\u001b[0m\u001b[0;34m\u001b[0m\u001b[0m\n",
      "\u001b[0;32m/anaconda3/lib/python3.7/site-packages/sklearn/model_selection/_search.py\u001b[0m in \u001b[0;36m_run_search\u001b[0;34m(self, evaluate_candidates)\u001b[0m\n\u001b[1;32m   1189\u001b[0m     \u001b[0;32mdef\u001b[0m \u001b[0m_run_search\u001b[0m\u001b[0;34m(\u001b[0m\u001b[0mself\u001b[0m\u001b[0;34m,\u001b[0m \u001b[0mevaluate_candidates\u001b[0m\u001b[0;34m)\u001b[0m\u001b[0;34m:\u001b[0m\u001b[0;34m\u001b[0m\u001b[0;34m\u001b[0m\u001b[0m\n\u001b[1;32m   1190\u001b[0m         \u001b[0;34m\"\"\"Search all candidates in param_grid\"\"\"\u001b[0m\u001b[0;34m\u001b[0m\u001b[0;34m\u001b[0m\u001b[0m\n\u001b[0;32m-> 1191\u001b[0;31m         \u001b[0mevaluate_candidates\u001b[0m\u001b[0;34m(\u001b[0m\u001b[0mParameterGrid\u001b[0m\u001b[0;34m(\u001b[0m\u001b[0mself\u001b[0m\u001b[0;34m.\u001b[0m\u001b[0mparam_grid\u001b[0m\u001b[0;34m)\u001b[0m\u001b[0;34m)\u001b[0m\u001b[0;34m\u001b[0m\u001b[0;34m\u001b[0m\u001b[0m\n\u001b[0m\u001b[1;32m   1192\u001b[0m \u001b[0;34m\u001b[0m\u001b[0m\n\u001b[1;32m   1193\u001b[0m \u001b[0;34m\u001b[0m\u001b[0m\n",
      "\u001b[0;32m/anaconda3/lib/python3.7/site-packages/sklearn/model_selection/_search.py\u001b[0m in \u001b[0;36mevaluate_candidates\u001b[0;34m(candidate_params)\u001b[0m\n\u001b[1;32m    709\u001b[0m                                \u001b[0;32mfor\u001b[0m \u001b[0mparameters\u001b[0m\u001b[0;34m,\u001b[0m \u001b[0;34m(\u001b[0m\u001b[0mtrain\u001b[0m\u001b[0;34m,\u001b[0m \u001b[0mtest\u001b[0m\u001b[0;34m)\u001b[0m\u001b[0;34m\u001b[0m\u001b[0;34m\u001b[0m\u001b[0m\n\u001b[1;32m    710\u001b[0m                                in product(candidate_params,\n\u001b[0;32m--> 711\u001b[0;31m                                           cv.split(X, y, groups)))\n\u001b[0m\u001b[1;32m    712\u001b[0m \u001b[0;34m\u001b[0m\u001b[0m\n\u001b[1;32m    713\u001b[0m                 \u001b[0mall_candidate_params\u001b[0m\u001b[0;34m.\u001b[0m\u001b[0mextend\u001b[0m\u001b[0;34m(\u001b[0m\u001b[0mcandidate_params\u001b[0m\u001b[0;34m)\u001b[0m\u001b[0;34m\u001b[0m\u001b[0;34m\u001b[0m\u001b[0m\n",
      "\u001b[0;32m/anaconda3/lib/python3.7/site-packages/sklearn/externals/joblib/parallel.py\u001b[0m in \u001b[0;36m__call__\u001b[0;34m(self, iterable)\u001b[0m\n\u001b[1;32m    928\u001b[0m \u001b[0;34m\u001b[0m\u001b[0m\n\u001b[1;32m    929\u001b[0m             \u001b[0;32mwith\u001b[0m \u001b[0mself\u001b[0m\u001b[0;34m.\u001b[0m\u001b[0m_backend\u001b[0m\u001b[0;34m.\u001b[0m\u001b[0mretrieval_context\u001b[0m\u001b[0;34m(\u001b[0m\u001b[0;34m)\u001b[0m\u001b[0;34m:\u001b[0m\u001b[0;34m\u001b[0m\u001b[0;34m\u001b[0m\u001b[0m\n\u001b[0;32m--> 930\u001b[0;31m                 \u001b[0mself\u001b[0m\u001b[0;34m.\u001b[0m\u001b[0mretrieve\u001b[0m\u001b[0;34m(\u001b[0m\u001b[0;34m)\u001b[0m\u001b[0;34m\u001b[0m\u001b[0;34m\u001b[0m\u001b[0m\n\u001b[0m\u001b[1;32m    931\u001b[0m             \u001b[0;31m# Make sure that we get a last message telling us we are done\u001b[0m\u001b[0;34m\u001b[0m\u001b[0;34m\u001b[0m\u001b[0;34m\u001b[0m\u001b[0m\n\u001b[1;32m    932\u001b[0m             \u001b[0melapsed_time\u001b[0m \u001b[0;34m=\u001b[0m \u001b[0mtime\u001b[0m\u001b[0;34m.\u001b[0m\u001b[0mtime\u001b[0m\u001b[0;34m(\u001b[0m\u001b[0;34m)\u001b[0m \u001b[0;34m-\u001b[0m \u001b[0mself\u001b[0m\u001b[0;34m.\u001b[0m\u001b[0m_start_time\u001b[0m\u001b[0;34m\u001b[0m\u001b[0;34m\u001b[0m\u001b[0m\n",
      "\u001b[0;32m/anaconda3/lib/python3.7/site-packages/sklearn/externals/joblib/parallel.py\u001b[0m in \u001b[0;36mretrieve\u001b[0;34m(self)\u001b[0m\n\u001b[1;32m    831\u001b[0m             \u001b[0;32mtry\u001b[0m\u001b[0;34m:\u001b[0m\u001b[0;34m\u001b[0m\u001b[0;34m\u001b[0m\u001b[0m\n\u001b[1;32m    832\u001b[0m                 \u001b[0;32mif\u001b[0m \u001b[0mgetattr\u001b[0m\u001b[0;34m(\u001b[0m\u001b[0mself\u001b[0m\u001b[0;34m.\u001b[0m\u001b[0m_backend\u001b[0m\u001b[0;34m,\u001b[0m \u001b[0;34m'supports_timeout'\u001b[0m\u001b[0;34m,\u001b[0m \u001b[0;32mFalse\u001b[0m\u001b[0;34m)\u001b[0m\u001b[0;34m:\u001b[0m\u001b[0;34m\u001b[0m\u001b[0;34m\u001b[0m\u001b[0m\n\u001b[0;32m--> 833\u001b[0;31m                     \u001b[0mself\u001b[0m\u001b[0;34m.\u001b[0m\u001b[0m_output\u001b[0m\u001b[0;34m.\u001b[0m\u001b[0mextend\u001b[0m\u001b[0;34m(\u001b[0m\u001b[0mjob\u001b[0m\u001b[0;34m.\u001b[0m\u001b[0mget\u001b[0m\u001b[0;34m(\u001b[0m\u001b[0mtimeout\u001b[0m\u001b[0;34m=\u001b[0m\u001b[0mself\u001b[0m\u001b[0;34m.\u001b[0m\u001b[0mtimeout\u001b[0m\u001b[0;34m)\u001b[0m\u001b[0;34m)\u001b[0m\u001b[0;34m\u001b[0m\u001b[0;34m\u001b[0m\u001b[0m\n\u001b[0m\u001b[1;32m    834\u001b[0m                 \u001b[0;32melse\u001b[0m\u001b[0;34m:\u001b[0m\u001b[0;34m\u001b[0m\u001b[0;34m\u001b[0m\u001b[0m\n\u001b[1;32m    835\u001b[0m                     \u001b[0mself\u001b[0m\u001b[0;34m.\u001b[0m\u001b[0m_output\u001b[0m\u001b[0;34m.\u001b[0m\u001b[0mextend\u001b[0m\u001b[0;34m(\u001b[0m\u001b[0mjob\u001b[0m\u001b[0;34m.\u001b[0m\u001b[0mget\u001b[0m\u001b[0;34m(\u001b[0m\u001b[0;34m)\u001b[0m\u001b[0;34m)\u001b[0m\u001b[0;34m\u001b[0m\u001b[0;34m\u001b[0m\u001b[0m\n",
      "\u001b[0;32m/anaconda3/lib/python3.7/site-packages/sklearn/externals/joblib/_parallel_backends.py\u001b[0m in \u001b[0;36mwrap_future_result\u001b[0;34m(future, timeout)\u001b[0m\n\u001b[1;32m    519\u001b[0m         AsyncResults.get from multiprocessing.\"\"\"\n\u001b[1;32m    520\u001b[0m         \u001b[0;32mtry\u001b[0m\u001b[0;34m:\u001b[0m\u001b[0;34m\u001b[0m\u001b[0;34m\u001b[0m\u001b[0m\n\u001b[0;32m--> 521\u001b[0;31m             \u001b[0;32mreturn\u001b[0m \u001b[0mfuture\u001b[0m\u001b[0;34m.\u001b[0m\u001b[0mresult\u001b[0m\u001b[0;34m(\u001b[0m\u001b[0mtimeout\u001b[0m\u001b[0;34m=\u001b[0m\u001b[0mtimeout\u001b[0m\u001b[0;34m)\u001b[0m\u001b[0;34m\u001b[0m\u001b[0;34m\u001b[0m\u001b[0m\n\u001b[0m\u001b[1;32m    522\u001b[0m         \u001b[0;32mexcept\u001b[0m \u001b[0mLokyTimeoutError\u001b[0m\u001b[0;34m:\u001b[0m\u001b[0;34m\u001b[0m\u001b[0;34m\u001b[0m\u001b[0m\n\u001b[1;32m    523\u001b[0m             \u001b[0;32mraise\u001b[0m \u001b[0mTimeoutError\u001b[0m\u001b[0;34m(\u001b[0m\u001b[0;34m)\u001b[0m\u001b[0;34m\u001b[0m\u001b[0;34m\u001b[0m\u001b[0m\n",
      "\u001b[0;32m/anaconda3/lib/python3.7/concurrent/futures/_base.py\u001b[0m in \u001b[0;36mresult\u001b[0;34m(self, timeout)\u001b[0m\n\u001b[1;32m    425\u001b[0m                 \u001b[0;32mreturn\u001b[0m \u001b[0mself\u001b[0m\u001b[0;34m.\u001b[0m\u001b[0m__get_result\u001b[0m\u001b[0;34m(\u001b[0m\u001b[0;34m)\u001b[0m\u001b[0;34m\u001b[0m\u001b[0;34m\u001b[0m\u001b[0m\n\u001b[1;32m    426\u001b[0m \u001b[0;34m\u001b[0m\u001b[0m\n\u001b[0;32m--> 427\u001b[0;31m             \u001b[0mself\u001b[0m\u001b[0;34m.\u001b[0m\u001b[0m_condition\u001b[0m\u001b[0;34m.\u001b[0m\u001b[0mwait\u001b[0m\u001b[0;34m(\u001b[0m\u001b[0mtimeout\u001b[0m\u001b[0;34m)\u001b[0m\u001b[0;34m\u001b[0m\u001b[0;34m\u001b[0m\u001b[0m\n\u001b[0m\u001b[1;32m    428\u001b[0m \u001b[0;34m\u001b[0m\u001b[0m\n\u001b[1;32m    429\u001b[0m             \u001b[0;32mif\u001b[0m \u001b[0mself\u001b[0m\u001b[0;34m.\u001b[0m\u001b[0m_state\u001b[0m \u001b[0;32min\u001b[0m \u001b[0;34m[\u001b[0m\u001b[0mCANCELLED\u001b[0m\u001b[0;34m,\u001b[0m \u001b[0mCANCELLED_AND_NOTIFIED\u001b[0m\u001b[0;34m]\u001b[0m\u001b[0;34m:\u001b[0m\u001b[0;34m\u001b[0m\u001b[0;34m\u001b[0m\u001b[0m\n",
      "\u001b[0;32m/anaconda3/lib/python3.7/threading.py\u001b[0m in \u001b[0;36mwait\u001b[0;34m(self, timeout)\u001b[0m\n\u001b[1;32m    294\u001b[0m         \u001b[0;32mtry\u001b[0m\u001b[0;34m:\u001b[0m    \u001b[0;31m# restore state no matter what (e.g., KeyboardInterrupt)\u001b[0m\u001b[0;34m\u001b[0m\u001b[0;34m\u001b[0m\u001b[0m\n\u001b[1;32m    295\u001b[0m             \u001b[0;32mif\u001b[0m \u001b[0mtimeout\u001b[0m \u001b[0;32mis\u001b[0m \u001b[0;32mNone\u001b[0m\u001b[0;34m:\u001b[0m\u001b[0;34m\u001b[0m\u001b[0;34m\u001b[0m\u001b[0m\n\u001b[0;32m--> 296\u001b[0;31m                 \u001b[0mwaiter\u001b[0m\u001b[0;34m.\u001b[0m\u001b[0macquire\u001b[0m\u001b[0;34m(\u001b[0m\u001b[0;34m)\u001b[0m\u001b[0;34m\u001b[0m\u001b[0;34m\u001b[0m\u001b[0m\n\u001b[0m\u001b[1;32m    297\u001b[0m                 \u001b[0mgotit\u001b[0m \u001b[0;34m=\u001b[0m \u001b[0;32mTrue\u001b[0m\u001b[0;34m\u001b[0m\u001b[0;34m\u001b[0m\u001b[0m\n\u001b[1;32m    298\u001b[0m             \u001b[0;32melse\u001b[0m\u001b[0;34m:\u001b[0m\u001b[0;34m\u001b[0m\u001b[0;34m\u001b[0m\u001b[0m\n",
      "\u001b[0;31mKeyboardInterrupt\u001b[0m: "
     ]
    }
   ],
   "source": [
    "modelfit(X_train, X_test, y_train, y_test)"
   ]
  },
  {
   "cell_type": "markdown",
   "metadata": {},
   "source": [
    "## Word2Vec"
   ]
  },
  {
   "cell_type": "code",
   "execution_count": 41,
   "metadata": {},
   "outputs": [],
   "source": [
    "wv = gensim.models.KeyedVectors.load_word2vec_format(\"word2vec_twitter_model.bin\", binary=True,unicode_errors='ignore')\n",
    "wv.init_sims(replace=True)"
   ]
  },
  {
   "cell_type": "code",
   "execution_count": 42,
   "metadata": {},
   "outputs": [
    {
     "name": "stderr",
     "output_type": "stream",
     "text": [
      "/anaconda3/lib/python3.7/site-packages/ipykernel_launcher.py:8: DeprecationWarning: Call to deprecated `syn0norm` (Attribute will be removed in 4.0.0, use self.wv.vectors_norm instead).\n",
      "  \n",
      "WARNING:root:cannot compute similarity with no input ['cod4']\n",
      "WARNING:root:cannot compute similarity with no input ['goooooodmorn']\n",
      "WARNING:root:cannot compute similarity with no input ['toodaayi']\n",
      "WARNING:root:cannot compute similarity with no input ['mishaaaaaaaa']\n",
      "WARNING:root:cannot compute similarity with no input ['ryaaaaaaaaaaaaan']\n",
      "WARNING:root:cannot compute similarity with no input []\n",
      "WARNING:root:cannot compute similarity with no input ['homeworkbor']\n",
      "WARNING:root:cannot compute similarity with no input []\n",
      "WARNING:root:cannot compute similarity with no input ['natrlich']\n",
      "WARNING:root:cannot compute similarity with no input ['frenchiebday', 'frenchiebday', 'frenchiebday', 'frenchiebday', 'frenchiebday', 'frenchiebday', 'frenchiebday', 'frenchiebday', 'frenchiebday']\n",
      "WARNING:root:cannot compute similarity with no input ['doesntfeelwel']\n",
      "WARNING:root:cannot compute similarity with no input ['pantri']\n",
      "WARNING:root:cannot compute similarity with no input ['doesntsheesh']\n",
      "WARNING:root:cannot compute similarity with no input ['youstinkatrespondingtotext']\n",
      "WARNING:root:cannot compute similarity with no input ['beeeeaaaaatooooo']\n",
      "WARNING:root:cannot compute similarity with no input ['sackiroth']\n",
      "WARNING:root:cannot compute similarity with no input ['sctest']\n",
      "WARNING:root:cannot compute similarity with no input ['butwhi']\n",
      "WARNING:root:cannot compute similarity with no input ['highnesscrystalmariedontluvspiteanymor']\n",
      "WARNING:root:cannot compute similarity with no input ['wwwyoutubecom', 'watchv9ftuv3xmrn0']\n",
      "WARNING:root:cannot compute similarity with no input ['hrlich']\n",
      "WARNING:root:cannot compute similarity with no input ['heyyyyyyyyyyyyyya']\n",
      "WARNING:root:cannot compute similarity with no input ['711']\n",
      "WARNING:root:cannot compute similarity with no input ['frenchiebday', 'frenchiebday', 'frenchiebday', 'frenchiebday', 'frenchiebday', 'frenchiebday', 'frenchiebday', 'frenchiebday', 'frenchiebday']\n",
      "WARNING:root:cannot compute similarity with no input ['mayyyyb']\n",
      "WARNING:root:cannot compute similarity with no input ['audioo']\n",
      "WARNING:root:cannot compute similarity with no input ['postieee']\n",
      "WARNING:root:cannot compute similarity with no input ['tenseso', 'emotionalso']\n",
      "WARNING:root:cannot compute similarity with no input ['panason', 'chargersorri']\n",
      "WARNING:root:cannot compute similarity with no input ['mandarinmonday']\n",
      "WARNING:root:cannot compute similarity with no input []\n",
      "WARNING:root:cannot compute similarity with no input ['inconsider']\n",
      "WARNING:root:cannot compute similarity with no input ['subwayyum']\n",
      "WARNING:root:cannot compute similarity with no input ['ahokay']\n",
      "WARNING:root:cannot compute similarity with no input []\n",
      "WARNING:root:cannot compute similarity with no input ['orthodontisssttt']\n",
      "WARNING:root:cannot compute similarity with no input []\n",
      "WARNING:root:cannot compute similarity with no input ['100']\n",
      "WARNING:root:cannot compute similarity with no input ['foggi']\n",
      "WARNING:root:cannot compute similarity with no input ['acaaaaaabou']\n",
      "WARNING:root:cannot compute similarity with no input ['okyou']\n",
      "WARNING:root:cannot compute similarity with no input ['frenchiebday', 'frenchiebday', 'frenchiebday', 'frenchiebday', 'frenchiebday', 'frenchiebday', 'frenchiebday', 'frenchiebday', 'frenchiebday']\n",
      "WARNING:root:cannot compute similarity with no input ['klaudin']\n",
      "WARNING:root:cannot compute similarity with no input ['princecharm']\n",
      "WARNING:root:cannot compute similarity with no input ['shoesshoesshoesyayyayyayloliwouldpostatwitpicbutidntknohow2']\n",
      "WARNING:root:cannot compute similarity with no input ['cinderelliie']\n",
      "WARNING:root:cannot compute similarity with no input ['irrat']\n",
      "WARNING:root:cannot compute similarity with no input ['rooobbbbbiiieeee']\n",
      "WARNING:root:cannot compute similarity with no input ['boffert']\n",
      "WARNING:root:cannot compute similarity with no input ['condol']\n",
      "WARNING:root:cannot compute similarity with no input ['shelaaaaaaaa']\n",
      "WARNING:root:cannot compute similarity with no input ['backach']\n",
      "WARNING:root:cannot compute similarity with no input ['headaaaaaaaaaaaach']\n",
      "WARNING:root:cannot compute similarity with no input ['painth']\n",
      "WARNING:root:cannot compute similarity with no input ['crappi']\n",
      "WARNING:root:cannot compute similarity with no input ['hungov']\n",
      "WARNING:root:cannot compute similarity with no input ['twappi']\n",
      "WARNING:root:cannot compute similarity with no input ['probablywhi']\n",
      "WARNING:root:cannot compute similarity with no input ['ginaaaaaaaaaaaaaaaa', 'ilonaaaa']\n",
      "WARNING:root:cannot compute similarity with no input ['tatiiiii']\n",
      "WARNING:root:cannot compute similarity with no input ['imintheroom', 'imwatchingthehannahmoviewithmomshesaidthisfilmverygreat']\n",
      "WARNING:root:cannot compute similarity with no input ['revisingg']\n",
      "WARNING:root:cannot compute similarity with no input ['howdyyi']\n",
      "WARNING:root:cannot compute similarity with no input []\n",
      "WARNING:root:cannot compute similarity with no input ['90210', '9pm', 'laaaaaaaaav']\n",
      "WARNING:root:cannot compute similarity with no input ['bawkmark']\n",
      "WARNING:root:cannot compute similarity with no input ['ibood']\n",
      "WARNING:root:cannot compute similarity with no input ['rehearsestarv']\n",
      "WARNING:root:cannot compute similarity with no input ['kickabl']\n",
      "WARNING:root:cannot compute similarity with no input ['suchateas']\n",
      "WARNING:root:cannot compute similarity with no input ['roughnight']\n",
      "WARNING:root:cannot compute similarity with no input ['courgett']\n",
      "WARNING:root:cannot compute similarity with no input ['sympathis']\n",
      "WARNING:root:cannot compute similarity with no input ['salvem']\n",
      "WARNING:root:cannot compute similarity with no input ['toothach']\n",
      "WARNING:root:cannot compute similarity with no input ['aimiloveshawniedur']\n",
      "WARNING:root:cannot compute similarity with no input ['brainfreez']\n",
      "WARNING:root:cannot compute similarity with no input ['clearwat']\n",
      "WARNING:root:cannot compute similarity with no input ['frenchiebday', 'frenchiebday', 'frenchiebday', 'frenchiebday', 'frenchiebday', 'frenchiebday', 'frenchiebday', 'frenchiebday', 'frenchiebday']\n",
      "WARNING:root:cannot compute similarity with no input ['pinkberri']\n",
      "WARNING:root:cannot compute similarity with no input ['stackeoverflow']\n",
      "WARNING:root:cannot compute similarity with no input []\n",
      "WARNING:root:cannot compute similarity with no input ['juddday']\n",
      "WARNING:root:cannot compute similarity with no input ['meagevscom']\n",
      "WARNING:root:cannot compute similarity with no input ['moooooorn']\n",
      "WARNING:root:cannot compute similarity with no input ['heyyhooheyhey']\n",
      "WARNING:root:cannot compute similarity with no input ['surgeri']\n",
      "WARNING:root:cannot compute similarity with no input ['1111']\n"
     ]
    },
    {
     "ename": "ValueError",
     "evalue": "Input X must be non-negative",
     "output_type": "error",
     "traceback": [
      "\u001b[0;31m---------------------------------------------------------------------------\u001b[0m",
      "\u001b[0;31mValueError\u001b[0m                                Traceback (most recent call last)",
      "\u001b[0;32m<ipython-input-42-005b9ab5bd5d>\u001b[0m in \u001b[0;36m<module>\u001b[0;34m\u001b[0m\n\u001b[1;32m     41\u001b[0m \u001b[0;34m\u001b[0m\u001b[0m\n\u001b[1;32m     42\u001b[0m \u001b[0mmodel\u001b[0m \u001b[0;34m=\u001b[0m \u001b[0mMultinomialNB\u001b[0m\u001b[0;34m(\u001b[0m\u001b[0;34m)\u001b[0m\u001b[0;34m\u001b[0m\u001b[0;34m\u001b[0m\u001b[0m\n\u001b[0;32m---> 43\u001b[0;31m \u001b[0mmodel\u001b[0m\u001b[0;34m.\u001b[0m\u001b[0mfit\u001b[0m\u001b[0;34m(\u001b[0m\u001b[0mX_train_word_average\u001b[0m\u001b[0;34m,\u001b[0m \u001b[0my_train\u001b[0m\u001b[0;34m)\u001b[0m\u001b[0;34m\u001b[0m\u001b[0;34m\u001b[0m\u001b[0m\n\u001b[0m\u001b[1;32m     44\u001b[0m \u001b[0my_pred\u001b[0m \u001b[0;34m=\u001b[0m \u001b[0mlogreg\u001b[0m\u001b[0;34m.\u001b[0m\u001b[0mpredict\u001b[0m\u001b[0;34m(\u001b[0m\u001b[0mX_test_word_average\u001b[0m\u001b[0;34m)\u001b[0m\u001b[0;34m\u001b[0m\u001b[0;34m\u001b[0m\u001b[0m\n\u001b[1;32m     45\u001b[0m \u001b[0;34m\u001b[0m\u001b[0m\n",
      "\u001b[0;32m/anaconda3/lib/python3.7/site-packages/sklearn/naive_bayes.py\u001b[0m in \u001b[0;36mfit\u001b[0;34m(self, X, y, sample_weight)\u001b[0m\n\u001b[1;32m    608\u001b[0m         self.feature_count_ = np.zeros((n_effective_classes, n_features),\n\u001b[1;32m    609\u001b[0m                                        dtype=np.float64)\n\u001b[0;32m--> 610\u001b[0;31m         \u001b[0mself\u001b[0m\u001b[0;34m.\u001b[0m\u001b[0m_count\u001b[0m\u001b[0;34m(\u001b[0m\u001b[0mX\u001b[0m\u001b[0;34m,\u001b[0m \u001b[0mY\u001b[0m\u001b[0;34m)\u001b[0m\u001b[0;34m\u001b[0m\u001b[0;34m\u001b[0m\u001b[0m\n\u001b[0m\u001b[1;32m    611\u001b[0m         \u001b[0malpha\u001b[0m \u001b[0;34m=\u001b[0m \u001b[0mself\u001b[0m\u001b[0;34m.\u001b[0m\u001b[0m_check_alpha\u001b[0m\u001b[0;34m(\u001b[0m\u001b[0;34m)\u001b[0m\u001b[0;34m\u001b[0m\u001b[0;34m\u001b[0m\u001b[0m\n\u001b[1;32m    612\u001b[0m         \u001b[0mself\u001b[0m\u001b[0;34m.\u001b[0m\u001b[0m_update_feature_log_prob\u001b[0m\u001b[0;34m(\u001b[0m\u001b[0malpha\u001b[0m\u001b[0;34m)\u001b[0m\u001b[0;34m\u001b[0m\u001b[0;34m\u001b[0m\u001b[0m\n",
      "\u001b[0;32m/anaconda3/lib/python3.7/site-packages/sklearn/naive_bayes.py\u001b[0m in \u001b[0;36m_count\u001b[0;34m(self, X, Y)\u001b[0m\n\u001b[1;32m    712\u001b[0m         \u001b[0;34m\"\"\"Count and smooth feature occurrences.\"\"\"\u001b[0m\u001b[0;34m\u001b[0m\u001b[0;34m\u001b[0m\u001b[0m\n\u001b[1;32m    713\u001b[0m         \u001b[0;32mif\u001b[0m \u001b[0mnp\u001b[0m\u001b[0;34m.\u001b[0m\u001b[0many\u001b[0m\u001b[0;34m(\u001b[0m\u001b[0;34m(\u001b[0m\u001b[0mX\u001b[0m\u001b[0;34m.\u001b[0m\u001b[0mdata\u001b[0m \u001b[0;32mif\u001b[0m \u001b[0missparse\u001b[0m\u001b[0;34m(\u001b[0m\u001b[0mX\u001b[0m\u001b[0;34m)\u001b[0m \u001b[0;32melse\u001b[0m \u001b[0mX\u001b[0m\u001b[0;34m)\u001b[0m \u001b[0;34m<\u001b[0m \u001b[0;36m0\u001b[0m\u001b[0;34m)\u001b[0m\u001b[0;34m:\u001b[0m\u001b[0;34m\u001b[0m\u001b[0;34m\u001b[0m\u001b[0m\n\u001b[0;32m--> 714\u001b[0;31m             \u001b[0;32mraise\u001b[0m \u001b[0mValueError\u001b[0m\u001b[0;34m(\u001b[0m\u001b[0;34m\"Input X must be non-negative\"\u001b[0m\u001b[0;34m)\u001b[0m\u001b[0;34m\u001b[0m\u001b[0;34m\u001b[0m\u001b[0m\n\u001b[0m\u001b[1;32m    715\u001b[0m         \u001b[0mself\u001b[0m\u001b[0;34m.\u001b[0m\u001b[0mfeature_count_\u001b[0m \u001b[0;34m+=\u001b[0m \u001b[0msafe_sparse_dot\u001b[0m\u001b[0;34m(\u001b[0m\u001b[0mY\u001b[0m\u001b[0;34m.\u001b[0m\u001b[0mT\u001b[0m\u001b[0;34m,\u001b[0m \u001b[0mX\u001b[0m\u001b[0;34m)\u001b[0m\u001b[0;34m\u001b[0m\u001b[0;34m\u001b[0m\u001b[0m\n\u001b[1;32m    716\u001b[0m         \u001b[0mself\u001b[0m\u001b[0;34m.\u001b[0m\u001b[0mclass_count_\u001b[0m \u001b[0;34m+=\u001b[0m \u001b[0mY\u001b[0m\u001b[0;34m.\u001b[0m\u001b[0msum\u001b[0m\u001b[0;34m(\u001b[0m\u001b[0maxis\u001b[0m\u001b[0;34m=\u001b[0m\u001b[0;36m0\u001b[0m\u001b[0;34m)\u001b[0m\u001b[0;34m\u001b[0m\u001b[0;34m\u001b[0m\u001b[0m\n",
      "\u001b[0;31mValueError\u001b[0m: Input X must be non-negative"
     ]
    }
   ],
   "source": [
    "def word_averaging(wv, words):\n",
    "    all_words, mean = set(), []\n",
    "    \n",
    "    for word in words:\n",
    "        if isinstance(word, np.ndarray):\n",
    "            mean.append(word)\n",
    "        elif word in wv.vocab:\n",
    "            mean.append(wv.syn0norm[wv.vocab[word].index])\n",
    "            all_words.add(wv.vocab[word].index)\n",
    "\n",
    "    if not mean:\n",
    "        logging.warning(\"cannot compute similarity with no input %s\", words)\n",
    "        # FIXME: remove these examples in pre-processing\n",
    "        return np.zeros(wv.vector_size,)\n",
    "\n",
    "    mean = gensim.matutils.unitvec(np.array(mean).mean(axis=0)).astype(np.float32)\n",
    "    return mean\n",
    "\n",
    "def  word_averaging_list(wv, text_list):\n",
    "    return np.vstack([word_averaging(wv, post) for post in text_list ])\n",
    "\n",
    "def w2v_tokenize_text(text):\n",
    "    tokens = []\n",
    "    for sent in nltk.sent_tokenize(text, language='english'):\n",
    "        for word in nltk.word_tokenize(sent, language='english'):\n",
    "            if len(word) < 2:\n",
    "                continue\n",
    "            tokens.append(word)\n",
    "    return tokens\n",
    "\n",
    "X = df['content']\n",
    "y = df['label']\n",
    "\n",
    "X_train, X_test, y_train, y_test = train_test_split(X, y, test_size=0.2, random_state = 42, stratify = y)\n",
    "\n",
    "test_tokenized = X_test.apply(w2v_tokenize_text)\n",
    "train_tokenized = X_train.apply(w2v_tokenize_text)\n",
    "\n",
    "X_train_word_average = word_averaging_list(wv,train_tokenized)\n",
    "X_test_word_average = word_averaging_list(wv,test_tokenized)\n",
    "\n",
    "# model = MultinomialNB()\n",
    "# model.fit(X_train_word_average, y_train)\n",
    "# y_pred = logreg.predict(X_test_word_average)\n",
    "\n",
    "# print(c, ' accuracy %s' % accuracy_score(y_pred, y_test))\n",
    "# print(classification_report(y_test, y_pred,target_names=features))\n",
    "\n"
   ]
  },
  {
   "cell_type": "code",
   "execution_count": 44,
   "metadata": {},
   "outputs": [
    {
     "name": "stdout",
     "output_type": "stream",
     "text": [
      "LogisticRegression(C=1.0, class_weight='balanced', dual=False,\n",
      "          fit_intercept=True, intercept_scaling=1, max_iter=500,\n",
      "          multi_class='multinomial', n_jobs=None, penalty='l2',\n",
      "          random_state=42, solver='lbfgs', tol=0.0001, verbose=0,\n",
      "          warm_start=False)\n",
      "{'C': 1, 'penalty': 'l2'}\n",
      "accuracy 0.2876500193573364\n",
      "              precision    recall  f1-score   support\n",
      "\n",
      "     neutral       0.50      0.29      0.37      1862\n",
      "     sadness       0.32      0.28      0.30      1031\n",
      "       worry       0.43      0.21      0.28      1687\n",
      "    surprise       0.12      0.19      0.14       436\n",
      "        love       0.44      0.47      0.46       768\n",
      "         fun       0.13      0.34      0.18       355\n",
      "        hate       0.16      0.52      0.24       264\n",
      "   happiness       0.34      0.22      0.27      1041\n",
      "      relief       0.12      0.33      0.18       305\n",
      "\n",
      "   micro avg       0.29      0.29      0.29      7749\n",
      "   macro avg       0.28      0.32      0.27      7749\n",
      "weighted avg       0.37      0.29      0.30      7749\n",
      "\n",
      "RandomForestClassifier(bootstrap=True, class_weight='balanced',\n",
      "            criterion='gini', max_depth=None, max_features='auto',\n",
      "            max_leaf_nodes=None, min_impurity_decrease=0.0,\n",
      "            min_impurity_split=None, min_samples_leaf=1,\n",
      "            min_samples_split=2, min_weight_fraction_leaf=0.0,\n",
      "            n_estimators=1000, n_jobs=None, oob_score=False,\n",
      "            random_state=42, verbose=0, warm_start=False)\n",
      "{'max_depth': 10}\n",
      "accuracy 0.32997806168537874\n",
      "              precision    recall  f1-score   support\n",
      "\n",
      "     neutral       0.44      0.42      0.43      1862\n",
      "     sadness       0.27      0.28      0.28      1031\n",
      "       worry       0.35      0.37      0.36      1687\n",
      "    surprise       0.15      0.04      0.06       436\n",
      "        love       0.37      0.47      0.41       768\n",
      "         fun       0.15      0.15      0.15       355\n",
      "        hate       0.28      0.28      0.28       264\n",
      "   happiness       0.27      0.33      0.30      1041\n",
      "      relief       0.11      0.06      0.08       305\n",
      "\n",
      "   micro avg       0.33      0.33      0.33      7749\n",
      "   macro avg       0.27      0.27      0.26      7749\n",
      "weighted avg       0.32      0.33      0.32      7749\n",
      "\n"
     ]
    }
   ],
   "source": [
    "modelfit(X_train_word_average, X_test_word_average, y_train, y_test)"
   ]
  },
  {
   "cell_type": "markdown",
   "metadata": {},
   "source": [
    "## Deep Learning"
   ]
  },
  {
   "cell_type": "code",
   "execution_count": null,
   "metadata": {},
   "outputs": [],
   "source": []
  },
  {
   "cell_type": "code",
   "execution_count": null,
   "metadata": {},
   "outputs": [],
   "source": []
  },
  {
   "cell_type": "code",
   "execution_count": null,
   "metadata": {},
   "outputs": [],
   "source": []
  },
  {
   "cell_type": "code",
   "execution_count": 45,
   "metadata": {},
   "outputs": [
    {
     "name": "stdout",
     "output_type": "stream",
     "text": [
      "Found 27988 unique tokens.\n",
      "Shape of data tensor: (38744, 25)\n",
      "(30995, 25) (30995, 9)\n",
      "(7749, 25) (7749, 9)\n"
     ]
    }
   ],
   "source": [
    "# The maximum number of words to be used. (most frequent)\n",
    "MAX_NB_WORDS = 20000\n",
    "# Max number of words in each complaint.\n",
    "MAX_SEQUENCE_LENGTH = 25\n",
    "# This is fixed.\n",
    "EMBEDDING_DIM = 100\n",
    "tokenizer = Tokenizer(num_words=MAX_NB_WORDS)\n",
    "tokenizer.fit_on_texts(df['content'].values)\n",
    "word_index = tokenizer.word_index\n",
    "print('Found %s unique tokens.' % len(word_index))\n",
    "\n",
    "X = tokenizer.texts_to_sequences(df['content'].values)\n",
    "X = pad_sequences(X, maxlen=MAX_SEQUENCE_LENGTH)\n",
    "print('Shape of data tensor:', X.shape)\n",
    "\n",
    "Y = df['label']\n",
    "\n",
    "X_train, X_test, Y_train1, Y_test1 = train_test_split(\n",
    "    X, Y, test_size=0.20, random_state=42,stratify=Y)\n",
    "\n",
    "Y_train = pd.get_dummies(Y_train1).values\n",
    "Y_test = pd.get_dummies(Y_test1).values\n",
    "\n",
    "print(X_train.shape, Y_train.shape)\n",
    "print(X_test.shape, Y_test.shape)\n",
    "\n",
    "# from imblearn.over_sampling import SMOTE\n",
    "# sm = SMOTE(random_state=42,sampling_strategy='not majority')\n",
    "# X_train, Y_train = sm.fit_resample(X_train, Y_train)\n",
    "# print(X_train.shape, Y_train.shape)\n",
    "\n"
   ]
  },
  {
   "cell_type": "markdown",
   "metadata": {},
   "source": [
    "## Normal"
   ]
  },
  {
   "cell_type": "code",
   "execution_count": 46,
   "metadata": {},
   "outputs": [
    {
     "name": "stdout",
     "output_type": "stream",
     "text": [
      "WARNING:tensorflow:From /anaconda3/lib/python3.7/site-packages/tensorflow/python/ops/resource_variable_ops.py:435: colocate_with (from tensorflow.python.framework.ops) is deprecated and will be removed in a future version.\n",
      "Instructions for updating:\n",
      "Colocations handled automatically by placer.\n"
     ]
    },
    {
     "name": "stderr",
     "output_type": "stream",
     "text": [
      "WARNING:tensorflow:From /anaconda3/lib/python3.7/site-packages/tensorflow/python/ops/resource_variable_ops.py:435: colocate_with (from tensorflow.python.framework.ops) is deprecated and will be removed in a future version.\n",
      "Instructions for updating:\n",
      "Colocations handled automatically by placer.\n"
     ]
    },
    {
     "name": "stdout",
     "output_type": "stream",
     "text": [
      "WARNING:tensorflow:From /anaconda3/lib/python3.7/site-packages/tensorflow/python/keras/backend.py:4010: calling dropout (from tensorflow.python.ops.nn_ops) with keep_prob is deprecated and will be removed in a future version.\n",
      "Instructions for updating:\n",
      "Please use `rate` instead of `keep_prob`. Rate should be set to `rate = 1 - keep_prob`.\n"
     ]
    },
    {
     "name": "stderr",
     "output_type": "stream",
     "text": [
      "WARNING:tensorflow:From /anaconda3/lib/python3.7/site-packages/tensorflow/python/keras/backend.py:4010: calling dropout (from tensorflow.python.ops.nn_ops) with keep_prob is deprecated and will be removed in a future version.\n",
      "Instructions for updating:\n",
      "Please use `rate` instead of `keep_prob`. Rate should be set to `rate = 1 - keep_prob`.\n"
     ]
    },
    {
     "name": "stdout",
     "output_type": "stream",
     "text": [
      "_________________________________________________________________\n",
      "Layer (type)                 Output Shape              Param #   \n",
      "=================================================================\n",
      "embedding (Embedding)        (None, 25, 100)           2000000   \n",
      "_________________________________________________________________\n",
      "lstm (LSTM)                  (None, 400)               801600    \n",
      "_________________________________________________________________\n",
      "dense (Dense)                (None, 9)                 3609      \n",
      "=================================================================\n",
      "Total params: 2,805,209\n",
      "Trainable params: 2,805,209\n",
      "Non-trainable params: 0\n",
      "_________________________________________________________________\n",
      "None\n",
      "Train on 30995 samples, validate on 7749 samples\n",
      "WARNING:tensorflow:From /anaconda3/lib/python3.7/site-packages/tensorflow/python/ops/math_ops.py:3066: to_int32 (from tensorflow.python.ops.math_ops) is deprecated and will be removed in a future version.\n",
      "Instructions for updating:\n",
      "Use tf.cast instead.\n"
     ]
    },
    {
     "name": "stderr",
     "output_type": "stream",
     "text": [
      "WARNING:tensorflow:From /anaconda3/lib/python3.7/site-packages/tensorflow/python/ops/math_ops.py:3066: to_int32 (from tensorflow.python.ops.math_ops) is deprecated and will be removed in a future version.\n",
      "Instructions for updating:\n",
      "Use tf.cast instead.\n"
     ]
    },
    {
     "name": "stdout",
     "output_type": "stream",
     "text": [
      "Epoch 1/20\n",
      "30976/30995 [============================>.] - ETA: 0s - loss: 1.9243 - acc: 0.2836\n",
      "Epoch 00001: val_loss improved from inf to 1.79477, saving model to norm_best_weights.01-0.3577.hdf5\n",
      "30995/30995 [==============================] - 137s 4ms/sample - loss: 1.9242 - acc: 0.2836 - val_loss: 1.7948 - val_acc: 0.3577\n",
      "Epoch 2/20\n",
      "30976/30995 [============================>.] - ETA: 0s - loss: 1.7173 - acc: 0.3865\n",
      "Epoch 00002: val_loss improved from 1.79477 to 1.74978, saving model to norm_best_weights.02-0.3766.hdf5\n",
      "30995/30995 [==============================] - 134s 4ms/sample - loss: 1.7174 - acc: 0.3865 - val_loss: 1.7498 - val_acc: 0.3766\n",
      "Epoch 3/20\n",
      "30976/30995 [============================>.] - ETA: 0s - loss: 1.5759 - acc: 0.4456\n",
      "Epoch 00003: val_loss did not improve from 1.74978\n",
      "30995/30995 [==============================] - 131s 4ms/sample - loss: 1.5760 - acc: 0.4456 - val_loss: 1.7898 - val_acc: 0.3640\n",
      "Epoch 4/20\n",
      "30976/30995 [============================>.] - ETA: 0s - loss: 1.4493 - acc: 0.4989\n",
      "Epoch 00004: val_loss did not improve from 1.74978\n",
      "30995/30995 [==============================] - 134s 4ms/sample - loss: 1.4492 - acc: 0.4990 - val_loss: 1.8298 - val_acc: 0.3573\n",
      "Epoch 5/20\n",
      "30976/30995 [============================>.] - ETA: 0s - loss: 1.3242 - acc: 0.5471\n",
      "Epoch 00005: val_loss did not improve from 1.74978\n",
      "30995/30995 [==============================] - 138s 4ms/sample - loss: 1.3240 - acc: 0.5472 - val_loss: 1.9257 - val_acc: 0.3443\n",
      "Epoch 6/20\n",
      "30976/30995 [============================>.] - ETA: 0s - loss: 1.2140 - acc: 0.5877\n",
      "Epoch 00006: val_loss did not improve from 1.74978\n",
      "30995/30995 [==============================] - 133s 4ms/sample - loss: 1.2137 - acc: 0.5878 - val_loss: 2.0106 - val_acc: 0.3338\n",
      "Epoch 7/20\n",
      "30976/30995 [============================>.] - ETA: 0s - loss: 1.1231 - acc: 0.6207\n",
      "Epoch 00007: val_loss did not improve from 1.74978\n",
      "30995/30995 [==============================] - 133s 4ms/sample - loss: 1.1232 - acc: 0.6207 - val_loss: 2.1086 - val_acc: 0.3305\n"
     ]
    }
   ],
   "source": [
    "filepath='norm_best_weights.{epoch:02d}-{val_acc:.4f}.hdf5'\n",
    "checkpoint = ModelCheckpoint(filepath, monitor='val_loss',verbose=1,save_best_only=True,mode='auto')\n",
    "earlystop = EarlyStopping(monitor='val_loss', patience=5, min_delta=0.0001)\n",
    "\n",
    "model = Sequential()\n",
    "model.add(Embedding(MAX_NB_WORDS, EMBEDDING_DIM,\n",
    "                    input_length=MAX_SEQUENCE_LENGTH))\n",
    "model.add(LSTM(400, dropout=0.5, recurrent_dropout=0.5))\n",
    "model.add(Dense(len(features), activation='softmax'))\n",
    "model.compile(loss='categorical_crossentropy',\n",
    "              optimizer='adam', metrics=['accuracy'])\n",
    "print(model.summary())\n",
    "\n",
    "epochs = 20\n",
    "batch_size = 128\n",
    "\n",
    "history = model.fit(X_train, Y_train, epochs=epochs, batch_size=batch_size,\\\n",
    "                    validation_data=(X_test, Y_test), callbacks=[checkpoint, earlystop])\n"
   ]
  },
  {
   "cell_type": "code",
   "execution_count": 47,
   "metadata": {},
   "outputs": [
    {
     "data": {
      "image/png": "[encoded data removed]",
      "text/plain": [
       "<Figure size 432x288 with 1 Axes>"
      ]
     },
     "metadata": {
      "needs_background": "light"
     },
     "output_type": "display_data"
    },
    {
     "data": {
      "image/png": "[encoded data removed]",
      "text/plain": [
       "<Figure size 432x288 with 1 Axes>"
      ]
     },
     "metadata": {
      "needs_background": "light"
     },
     "output_type": "display_data"
    }
   ],
   "source": [
    "# accr = model.evaluate(X_test,Y_test)\n",
    "# print('Test set\\n  Loss: {:0.3f}\\n  Accuracy: {:0.3f}'.format(accr[0],accr[1]))\n",
    "\n",
    "plt.title('Accuracy')\n",
    "plt.plot(history.history['acc'], label='train')\n",
    "plt.plot(history.history['val_acc'], label='validation')\n",
    "plt.legend()\n",
    "plt.show();\n",
    "\n",
    "plt.title('Loss')\n",
    "plt.plot(history.history['loss'], label='train')\n",
    "plt.plot(history.history['val_loss'], label='validation')\n",
    "plt.legend()\n",
    "plt.show();"
   ]
  },
  {
   "cell_type": "code",
   "execution_count": 48,
   "metadata": {},
   "outputs": [
    {
     "name": "stdout",
     "output_type": "stream",
     "text": [
      "              precision    recall  f1-score   support\n",
      "\n",
      "     neutral       0.41      0.43      0.42      1862\n",
      "     sadness       0.29      0.24      0.26      1031\n",
      "       worry       0.34      0.40      0.37      1687\n",
      "    surprise       0.12      0.06      0.08       436\n",
      "        love       0.36      0.46      0.40       768\n",
      "         fun       0.11      0.05      0.07       355\n",
      "        hate       0.23      0.28      0.25       264\n",
      "   happiness       0.29      0.35      0.32      1041\n",
      "      relief       0.20      0.03      0.06       305\n",
      "\n",
      "   micro avg       0.33      0.33      0.33      7749\n",
      "   macro avg       0.26      0.25      0.25      7749\n",
      "weighted avg       0.31      0.33      0.32      7749\n",
      "\n"
     ]
    }
   ],
   "source": [
    "y_pred = model.predict_classes(X_test)\n",
    "print(classification_report(Y_test1, y_pred,target_names=features))"
   ]
  },
  {
   "cell_type": "markdown",
   "metadata": {},
   "source": [
    "## with glove"
   ]
  },
  {
   "cell_type": "code",
   "execution_count": 49,
   "metadata": {},
   "outputs": [
    {
     "name": "stdout",
     "output_type": "stream",
     "text": [
      "Loaded 1193514 word vectors.\n"
     ]
    }
   ],
   "source": [
    "# load the whole embedding into memory\n",
    "embeddings_index = dict()\n",
    "f = open('glove.twitter.27B.200d.txt')\n",
    "for line in f:\n",
    "    values = line.split()\n",
    "    word = values[0]\n",
    "    coefs = asarray(values[1:], dtype='float32')\n",
    "    embeddings_index[word] = coefs\n",
    "f.close()\n",
    "print('Loaded %s word vectors.' % len(embeddings_index))\n"
   ]
  },
  {
   "cell_type": "code",
   "execution_count": 50,
   "metadata": {},
   "outputs": [
    {
     "name": "stdout",
     "output_type": "stream",
     "text": [
      "_________________________________________________________________\n",
      "Layer (type)                 Output Shape              Param #   \n",
      "=================================================================\n",
      "embedding_1 (Embedding)      (None, 25, 200)           7748800   \n",
      "_________________________________________________________________\n",
      "lstm_1 (LSTM)                (None, 400)               961600    \n",
      "_________________________________________________________________\n",
      "dense_1 (Dense)              (None, 9)                 3609      \n",
      "=================================================================\n",
      "Total params: 8,714,009\n",
      "Trainable params: 965,209\n",
      "Non-trainable params: 7,748,800\n",
      "_________________________________________________________________\n",
      "None\n",
      "Train on 30995 samples, validate on 7749 samples\n",
      "Epoch 1/20\n",
      "30976/30995 [============================>.] - ETA: 0s - loss: 1.8648 - acc: 0.3173\n",
      "Epoch 00001: val_loss improved from inf to 1.76528, saving model to glove_best_weights.01-0.3442.hdf5\n",
      "30995/30995 [==============================] - 138s 4ms/sample - loss: 1.8648 - acc: 0.3173 - val_loss: 1.7653 - val_acc: 0.3442\n",
      "Epoch 2/20\n",
      "30976/30995 [============================>.] - ETA: 0s - loss: 1.7784 - acc: 0.3521\n",
      "Epoch 00002: val_loss improved from 1.76528 to 1.73165, saving model to glove_best_weights.02-0.3714.hdf5\n",
      "30995/30995 [==============================] - 141s 5ms/sample - loss: 1.7785 - acc: 0.3521 - val_loss: 1.7317 - val_acc: 0.3714\n",
      "Epoch 3/20\n",
      "30976/30995 [============================>.] - ETA: 0s - loss: 1.7408 - acc: 0.3677\n",
      "Epoch 00003: val_loss improved from 1.73165 to 1.71186, saving model to glove_best_weights.03-0.3788.hdf5\n",
      "30995/30995 [==============================] - 137s 4ms/sample - loss: 1.7407 - acc: 0.3678 - val_loss: 1.7119 - val_acc: 0.3788\n",
      "Epoch 4/20\n",
      "30976/30995 [============================>.] - ETA: 0s - loss: 1.7118 - acc: 0.3787\n",
      "Epoch 00004: val_loss did not improve from 1.71186\n",
      "30995/30995 [==============================] - 137s 4ms/sample - loss: 1.7120 - acc: 0.3786 - val_loss: 1.7232 - val_acc: 0.3697\n",
      "Epoch 5/20\n",
      "30976/30995 [============================>.] - ETA: 0s - loss: 1.6958 - acc: 0.3846\n",
      "Epoch 00005: val_loss improved from 1.71186 to 1.70006, saving model to glove_best_weights.05-0.3812.hdf5\n",
      "30995/30995 [==============================] - 138s 4ms/sample - loss: 1.6958 - acc: 0.3846 - val_loss: 1.7001 - val_acc: 0.3812\n",
      "Epoch 6/20\n",
      "30976/30995 [============================>.] - ETA: 0s - loss: 1.6800 - acc: 0.3895\n",
      "Epoch 00006: val_loss improved from 1.70006 to 1.69821, saving model to glove_best_weights.06-0.3829.hdf5\n",
      "30995/30995 [==============================] - 138s 4ms/sample - loss: 1.6800 - acc: 0.3895 - val_loss: 1.6982 - val_acc: 0.3829\n",
      "Epoch 7/20\n",
      "30976/30995 [============================>.] - ETA: 0s - loss: 1.6626 - acc: 0.3957\n",
      "Epoch 00007: val_loss improved from 1.69821 to 1.69629, saving model to glove_best_weights.07-0.3826.hdf5\n",
      "30995/30995 [==============================] - 138s 4ms/sample - loss: 1.6628 - acc: 0.3955 - val_loss: 1.6963 - val_acc: 0.3826\n",
      "Epoch 8/20\n",
      "30976/30995 [============================>.] - ETA: 0s - loss: 1.6482 - acc: 0.4016\n",
      "Epoch 00008: val_loss did not improve from 1.69629\n",
      "30995/30995 [==============================] - 138s 4ms/sample - loss: 1.6482 - acc: 0.4016 - val_loss: 1.6967 - val_acc: 0.3795\n",
      "Epoch 9/20\n",
      "30976/30995 [============================>.] - ETA: 0s - loss: 1.6322 - acc: 0.4042\n",
      "Epoch 00009: val_loss did not improve from 1.69629\n",
      "30995/30995 [==============================] - 139s 4ms/sample - loss: 1.6324 - acc: 0.4042 - val_loss: 1.6973 - val_acc: 0.3816\n",
      "Epoch 10/20\n",
      "30976/30995 [============================>.] - ETA: 0s - loss: 1.6171 - acc: 0.4096\n",
      "Epoch 00010: val_loss did not improve from 1.69629\n",
      "30995/30995 [==============================] - 138s 4ms/sample - loss: 1.6172 - acc: 0.4095 - val_loss: 1.6983 - val_acc: 0.3856\n",
      "Epoch 11/20\n",
      "30976/30995 [============================>.] - ETA: 0s - loss: 1.5945 - acc: 0.4208\n",
      "Epoch 00011: val_loss did not improve from 1.69629\n",
      "30995/30995 [==============================] - 139s 4ms/sample - loss: 1.5946 - acc: 0.4208 - val_loss: 1.7098 - val_acc: 0.3859\n",
      "Epoch 12/20\n",
      "30976/30995 [============================>.] - ETA: 0s - loss: 1.5809 - acc: 0.4266\n",
      "Epoch 00012: val_loss did not improve from 1.69629\n",
      "30995/30995 [==============================] - 136s 4ms/sample - loss: 1.5810 - acc: 0.4266 - val_loss: 1.7055 - val_acc: 0.3851\n"
     ]
    }
   ],
   "source": [
    "\n",
    "\n",
    "EMBEDDING_DIM = 200\n",
    "\n",
    "# create a weight matrix for words in training docs\n",
    "embedding_matrix_g = zeros((len(X), EMBEDDING_DIM))\n",
    "# embedding_matrix = zeros((len(tokenizer.word_index) + 1, 200))\n",
    "for word, i in tokenizer.word_index.items():\n",
    "    embedding_vector = embeddings_index.get(word)\n",
    "    if embedding_vector is not None:\n",
    "        embedding_matrix_g[i] = embedding_vector\n",
    "\n",
    "#print(len(tokenizer.word_index))\n",
    "\n",
    "filepath='glove_best_weights.{epoch:02d}-{val_acc:.4f}.hdf5'\n",
    "checkpoint = ModelCheckpoint(filepath, monitor='val_loss',verbose=1,save_best_only=True,mode='auto')\n",
    "earlystop = EarlyStopping(monitor='val_loss', patience=5, min_delta=0.0001)\n",
    "\n",
    "model = Sequential()\n",
    "model.add(Embedding(len(X), EMBEDDING_DIM,\n",
    "                    input_length=X.shape[1], weights=[embedding_matrix_g], trainable=False))\n",
    "# model.add(Dropout(0.2))\n",
    "\n",
    "#model.add(SpatialDropout1D(0.2))\n",
    "# model.add(Conv1D(filters=32, kernel_size=3, padding='same', activation='relu'))\n",
    "# model.add(MaxPooling1D(pool_size=2))\n",
    "model.add(LSTM(400, dropout=0.5, recurrent_dropout=0.5))\n",
    "# model.add(LSTM(200,return_sequences=True))\n",
    "# model.add(Dropout(0.2))\n",
    "# model.add(LSTM(200))\n",
    "# model.add(Dropout(0.2))\n",
    "model.add(Dense(len(features), activation='softmax'))\n",
    "model.compile(loss='categorical_crossentropy',\n",
    "              optimizer='adam', metrics=['accuracy'])\n",
    "print(model.summary())\n",
    "\n",
    "epochs = 20\n",
    "batch_size = 128\n",
    "\n",
    "history = model.fit(X_train, Y_train, epochs=epochs, batch_size=batch_size,\\\n",
    "                    validation_data=(X_test, Y_test), callbacks=[checkpoint, earlystop])"
   ]
  },
  {
   "cell_type": "code",
   "execution_count": 51,
   "metadata": {},
   "outputs": [
    {
     "data": {
      "image/png": "[encoded data removed]",
      "text/plain": [
       "<Figure size 432x288 with 1 Axes>"
      ]
     },
     "metadata": {
      "needs_background": "light"
     },
     "output_type": "display_data"
    },
    {
     "data": {
      "image/png": "[encoded data removed]",
      "text/plain": [
       "<Figure size 432x288 with 1 Axes>"
      ]
     },
     "metadata": {
      "needs_background": "light"
     },
     "output_type": "display_data"
    }
   ],
   "source": [
    "# accr = model.evaluate(X_test,Y_test)\n",
    "# print('Test set\\n  Loss: {:0.3f}\\n  Accuracy: {:0.3f}'.format(accr[0],accr[1]))\n",
    "\n",
    "plt.title('Accuracy')\n",
    "plt.plot(history.history['acc'], label='train')\n",
    "plt.plot(history.history['val_acc'], label='test')\n",
    "plt.legend()\n",
    "plt.show();\n",
    "\n",
    "plt.title('Loss')\n",
    "plt.plot(history.history['loss'], label='train')\n",
    "plt.plot(history.history['val_loss'], label='test')\n",
    "plt.legend()\n",
    "plt.show();"
   ]
  },
  {
   "cell_type": "code",
   "execution_count": 52,
   "metadata": {},
   "outputs": [
    {
     "name": "stdout",
     "output_type": "stream",
     "text": [
      "              precision    recall  f1-score   support\n",
      "\n",
      "     neutral       0.40      0.62      0.49      1862\n",
      "     sadness       0.38      0.15      0.21      1031\n",
      "       worry       0.38      0.46      0.42      1687\n",
      "    surprise       0.22      0.03      0.05       436\n",
      "        love       0.50      0.43      0.46       768\n",
      "         fun       0.12      0.01      0.02       355\n",
      "        hate       0.38      0.24      0.30       264\n",
      "   happiness       0.33      0.46      0.39      1041\n",
      "      relief       0.28      0.07      0.11       305\n",
      "\n",
      "   micro avg       0.39      0.39      0.39      7749\n",
      "   macro avg       0.33      0.27      0.27      7749\n",
      "weighted avg       0.36      0.39      0.35      7749\n",
      "\n"
     ]
    }
   ],
   "source": [
    "y_pred = model.predict_classes(X_test)\n",
    "print(classification_report(Y_test1, y_pred,target_names=features))"
   ]
  },
  {
   "cell_type": "markdown",
   "metadata": {},
   "source": [
    "## with word2vec"
   ]
  },
  {
   "cell_type": "code",
   "execution_count": 53,
   "metadata": {},
   "outputs": [
    {
     "name": "stdout",
     "output_type": "stream",
     "text": [
      "Preparing embedding matrix\n",
      "Null word embeddings: 20442\n"
     ]
    }
   ],
   "source": [
    "########################################\n",
    "## prepare embeddings\n",
    "########################################\n",
    "print('Preparing embedding matrix')\n",
    "\n",
    "EMBEDDING_DIM = 400\n",
    "\n",
    "from numpy import zeros\n",
    "# nb_words = min(MAX_NB_WORDS, len(word_index))+1\n",
    "# embedding_matrix = np.zeros((nb_words, EMBEDDING_DIM))\n",
    "embedding_matrix_wv = zeros((len(X), EMBEDDING_DIM))\n",
    "for word, i in tokenizer.word_index.items():\n",
    "    if word in wv.vocab:\n",
    "        embedding_matrix_wv[i] = wv.word_vec(word)\n",
    "print('Null word embeddings: %d' % np.sum(np.sum(embedding_matrix_wv, axis=1) == 0))"
   ]
  },
  {
   "cell_type": "code",
   "execution_count": 54,
   "metadata": {},
   "outputs": [
    {
     "name": "stdout",
     "output_type": "stream",
     "text": [
      "_________________________________________________________________\n",
      "Layer (type)                 Output Shape              Param #   \n",
      "=================================================================\n",
      "embedding_2 (Embedding)      (None, 25, 400)           15497600  \n",
      "_________________________________________________________________\n",
      "lstm_2 (LSTM)                (None, 400)               1281600   \n",
      "_________________________________________________________________\n",
      "dense_2 (Dense)              (None, 9)                 3609      \n",
      "=================================================================\n",
      "Total params: 16,782,809\n",
      "Trainable params: 1,285,209\n",
      "Non-trainable params: 15,497,600\n",
      "_________________________________________________________________\n",
      "None\n",
      "Train on 30995 samples, validate on 7749 samples\n",
      "Epoch 1/20\n",
      "30976/30995 [============================>.] - ETA: 0s - loss: 1.9145 - acc: 0.2979\n",
      "Epoch 00001: val_loss improved from inf to 1.80379, saving model to word2vec_best_weights.01-0.3524.hdf5\n",
      "30995/30995 [==============================] - 168s 5ms/sample - loss: 1.9144 - acc: 0.2978 - val_loss: 1.8038 - val_acc: 0.3524\n",
      "Epoch 2/20\n",
      "30976/30995 [============================>.] - ETA: 0s - loss: 1.8231 - acc: 0.3419\n",
      "Epoch 00002: val_loss improved from 1.80379 to 1.76474, saving model to word2vec_best_weights.02-0.3557.hdf5\n",
      "30995/30995 [==============================] - 166s 5ms/sample - loss: 1.8230 - acc: 0.3419 - val_loss: 1.7647 - val_acc: 0.3557\n",
      "Epoch 3/20\n",
      "30976/30995 [============================>.] - ETA: 0s - loss: 1.7901 - acc: 0.3502\n",
      "Epoch 00003: val_loss improved from 1.76474 to 1.74468, saving model to word2vec_best_weights.03-0.3631.hdf5\n",
      "30995/30995 [==============================] - 166s 5ms/sample - loss: 1.7901 - acc: 0.3502 - val_loss: 1.7447 - val_acc: 0.3631\n",
      "Epoch 4/20\n",
      "30976/30995 [============================>.] - ETA: 0s - loss: 1.7616 - acc: 0.3643\n",
      "Epoch 00004: val_loss improved from 1.74468 to 1.73114, saving model to word2vec_best_weights.04-0.3737.hdf5\n",
      "30995/30995 [==============================] - 166s 5ms/sample - loss: 1.7615 - acc: 0.3643 - val_loss: 1.7311 - val_acc: 0.3737\n",
      "Epoch 5/20\n",
      "30976/30995 [============================>.] - ETA: 0s - loss: 1.7446 - acc: 0.3676\n",
      "Epoch 00005: val_loss improved from 1.73114 to 1.72119, saving model to word2vec_best_weights.05-0.3800.hdf5\n",
      "30995/30995 [==============================] - 166s 5ms/sample - loss: 1.7446 - acc: 0.3676 - val_loss: 1.7212 - val_acc: 0.3800\n",
      "Epoch 6/20\n",
      "30976/30995 [============================>.] - ETA: 0s - loss: 1.7264 - acc: 0.3752\n",
      "Epoch 00006: val_loss improved from 1.72119 to 1.71866, saving model to word2vec_best_weights.06-0.3802.hdf5\n",
      "30995/30995 [==============================] - 165s 5ms/sample - loss: 1.7265 - acc: 0.3752 - val_loss: 1.7187 - val_acc: 0.3802\n",
      "Epoch 7/20\n",
      "30976/30995 [============================>.] - ETA: 0s - loss: 1.7137 - acc: 0.3800\n",
      "Epoch 00007: val_loss improved from 1.71866 to 1.70798, saving model to word2vec_best_weights.07-0.3840.hdf5\n",
      "30995/30995 [==============================] - 167s 5ms/sample - loss: 1.7137 - acc: 0.3800 - val_loss: 1.7080 - val_acc: 0.3840\n",
      "Epoch 8/20\n",
      "30976/30995 [============================>.] - ETA: 0s - loss: 1.7051 - acc: 0.3831\n",
      "Epoch 00008: val_loss improved from 1.70798 to 1.69962, saving model to word2vec_best_weights.08-0.3847.hdf5\n",
      "30995/30995 [==============================] - 171s 6ms/sample - loss: 1.7051 - acc: 0.3832 - val_loss: 1.6996 - val_acc: 0.3847\n",
      "Epoch 9/20\n",
      "30976/30995 [============================>.] - ETA: 0s - loss: 1.6936 - acc: 0.3899\n",
      "Epoch 00009: val_loss improved from 1.69962 to 1.69528, saving model to word2vec_best_weights.09-0.3860.hdf5\n",
      "30995/30995 [==============================] - 166s 5ms/sample - loss: 1.6937 - acc: 0.3899 - val_loss: 1.6953 - val_acc: 0.3860\n",
      "Epoch 10/20\n",
      "30976/30995 [============================>.] - ETA: 0s - loss: 1.6836 - acc: 0.3891\n",
      "Epoch 00010: val_loss did not improve from 1.69528\n",
      "30995/30995 [==============================] - 167s 5ms/sample - loss: 1.6836 - acc: 0.3891 - val_loss: 1.7071 - val_acc: 0.3810\n",
      "Epoch 11/20\n",
      "30976/30995 [============================>.] - ETA: 0s - loss: 1.6772 - acc: 0.3907\n",
      "Epoch 00011: val_loss did not improve from 1.69528\n",
      "30995/30995 [==============================] - 167s 5ms/sample - loss: 1.6773 - acc: 0.3906 - val_loss: 1.6977 - val_acc: 0.3864\n",
      "Epoch 12/20\n",
      "30976/30995 [============================>.] - ETA: 0s - loss: 1.6696 - acc: 0.3949\n",
      "Epoch 00012: val_loss did not improve from 1.69528\n",
      "30995/30995 [==============================] - 168s 5ms/sample - loss: 1.6695 - acc: 0.3948 - val_loss: 1.7084 - val_acc: 0.3837\n",
      "Epoch 13/20\n",
      "30976/30995 [============================>.] - ETA: 0s - loss: 1.6630 - acc: 0.3973\n",
      "Epoch 00013: val_loss improved from 1.69528 to 1.68861, saving model to word2vec_best_weights.13-0.3868.hdf5\n",
      "30995/30995 [==============================] - 167s 5ms/sample - loss: 1.6630 - acc: 0.3973 - val_loss: 1.6886 - val_acc: 0.3868\n",
      "Epoch 14/20\n",
      "30976/30995 [============================>.] - ETA: 0s - loss: 1.6545 - acc: 0.3981\n",
      "Epoch 00014: val_loss did not improve from 1.68861\n",
      "30995/30995 [==============================] - 167s 5ms/sample - loss: 1.6545 - acc: 0.3981 - val_loss: 1.6932 - val_acc: 0.3875\n",
      "Epoch 15/20\n",
      "30976/30995 [============================>.] - ETA: 0s - loss: 1.6488 - acc: 0.4048\n",
      "Epoch 00015: val_loss did not improve from 1.68861\n",
      "30995/30995 [==============================] - 167s 5ms/sample - loss: 1.6490 - acc: 0.4047 - val_loss: 1.6929 - val_acc: 0.3897\n",
      "Epoch 16/20\n",
      "30976/30995 [============================>.] - ETA: 0s - loss: 1.6402 - acc: 0.4033\n",
      "Epoch 00016: val_loss did not improve from 1.68861\n",
      "30995/30995 [==============================] - 167s 5ms/sample - loss: 1.6401 - acc: 0.4035 - val_loss: 1.6893 - val_acc: 0.3891\n",
      "Epoch 17/20\n",
      "30976/30995 [============================>.] - ETA: 0s - loss: 1.6355 - acc: 0.4074\n",
      "Epoch 00017: val_loss did not improve from 1.68861\n",
      "30995/30995 [==============================] - 168s 5ms/sample - loss: 1.6357 - acc: 0.4074 - val_loss: 1.6889 - val_acc: 0.3859\n",
      "Epoch 18/20\n",
      "30976/30995 [============================>.] - ETA: 0s - loss: 1.6288 - acc: 0.4079\n",
      "Epoch 00018: val_loss did not improve from 1.68861\n",
      "30995/30995 [==============================] - 168s 5ms/sample - loss: 1.6290 - acc: 0.4079 - val_loss: 1.6909 - val_acc: 0.3911\n"
     ]
    }
   ],
   "source": [
    "\n",
    "MAX_NB_WORDS = len(X)\n",
    "\n",
    "filepath='word2vec_best_weights.{epoch:02d}-{val_acc:.4f}.hdf5'\n",
    "checkpoint = ModelCheckpoint(filepath, monitor='val_loss',verbose=1,save_best_only=True,mode='auto')\n",
    "earlystop = EarlyStopping(monitor='val_loss', patience=5, min_delta=0.0001)\n",
    "    \n",
    "model = Sequential()\n",
    "model.add(Embedding(MAX_NB_WORDS, EMBEDDING_DIM,\n",
    "                    input_length=X.shape[1], weights=[embedding_matrix_wv], trainable=False))\n",
    "# model.add(Dropout(0.2))\n",
    "\n",
    "#model.add(SpatialDropout1D(0.1))\n",
    "# model.add(Conv1D(filters=32, kernel_size=3, padding='same', activation='relu'))\n",
    "# model.add(MaxPooling1D(pool_size=2))\n",
    "#model.add(LSTM(200,return_sequences=True))\n",
    "model.add(LSTM(400, dropout=0.5, recurrent_dropout=0.5))\n",
    "# model.add(LSTM(200,return_sequences=True))\n",
    "# model.add(Dropout(0.2))\n",
    "# model.add(LSTM(200))\n",
    "# model.add(Dropout(0.2))\n",
    "model.add(Dense(len(features), activation='softmax'))\n",
    "model.compile(loss='categorical_crossentropy',\n",
    "              optimizer='adam', metrics=['accuracy'])\n",
    "print(model.summary())\n",
    "\n",
    "epochs = 20\n",
    "batch_size = 128\n",
    "\n",
    "history = model.fit(X_train, Y_train, epochs=epochs, batch_size=batch_size,\\\n",
    "                    validation_data=(X_test, Y_test), callbacks=[checkpoint, earlystop])"
   ]
  },
  {
   "cell_type": "code",
   "execution_count": 55,
   "metadata": {},
   "outputs": [
    {
     "data": {
      "image/png": "[encoded data removed]",
      "text/plain": [
       "<Figure size 432x288 with 1 Axes>"
      ]
     },
     "metadata": {
      "needs_background": "light"
     },
     "output_type": "display_data"
    },
    {
     "data": {
      "image/png": "[encoded data removed]",
      "text/plain": [
       "<Figure size 432x288 with 1 Axes>"
      ]
     },
     "metadata": {
      "needs_background": "light"
     },
     "output_type": "display_data"
    }
   ],
   "source": [
    "plt.title('Accuracy')\n",
    "plt.plot(history.history['acc'], label='train')\n",
    "plt.plot(history.history['val_acc'], label='test')\n",
    "plt.legend()\n",
    "plt.show();\n",
    "\n",
    "plt.title('Loss')\n",
    "plt.plot(history.history['loss'], label='train')\n",
    "plt.plot(history.history['val_loss'], label='test')\n",
    "plt.legend()\n",
    "plt.show();"
   ]
  },
  {
   "cell_type": "code",
   "execution_count": 56,
   "metadata": {},
   "outputs": [
    {
     "name": "stdout",
     "output_type": "stream",
     "text": [
      "              precision    recall  f1-score   support\n",
      "\n",
      "     neutral       0.41      0.61      0.49      1862\n",
      "     sadness       0.41      0.16      0.23      1031\n",
      "       worry       0.36      0.53      0.43      1687\n",
      "    surprise       0.25      0.01      0.02       436\n",
      "        love       0.52      0.41      0.46       768\n",
      "         fun       0.17      0.00      0.01       355\n",
      "        hate       0.42      0.19      0.26       264\n",
      "   happiness       0.34      0.45      0.38      1041\n",
      "      relief       0.28      0.02      0.03       305\n",
      "\n",
      "   micro avg       0.39      0.39      0.39      7749\n",
      "   macro avg       0.35      0.26      0.26      7749\n",
      "weighted avg       0.38      0.39      0.35      7749\n",
      "\n"
     ]
    }
   ],
   "source": [
    "y_pred = model.predict_classes(X_test)\n",
    "print(classification_report(Y_test1, y_pred,target_names=features))"
   ]
  },
  {
   "cell_type": "code",
   "execution_count": 65,
   "metadata": {},
   "outputs": [
    {
     "name": "stdout",
     "output_type": "stream",
     "text": [
      "Collecting tensorflow-hub\n",
      "\u001b[?25l  Downloading https://files.pythonhosted.org/packages/10/5c/6f3698513cf1cd730a5ea66aec665d213adf9de59b34f362f270e0bd126f/tensorflow_hub-0.4.0-py2.py3-none-any.whl (75kB)\n",
      "\u001b[K    100% |████████████████████████████████| 81kB 2.5MB/s ta 0:00:01\n",
      "\u001b[?25hRequirement already satisfied: six>=1.10.0 in /anaconda3/lib/python3.7/site-packages (from tensorflow-hub) (1.12.0)\n",
      "Requirement already satisfied: numpy>=1.12.0 in /anaconda3/lib/python3.7/site-packages (from tensorflow-hub) (1.15.4)\n",
      "Requirement already satisfied: protobuf>=3.4.0 in /anaconda3/lib/python3.7/site-packages (from tensorflow-hub) (3.7.1)\n",
      "Requirement already satisfied: setuptools in /anaconda3/lib/python3.7/site-packages (from protobuf>=3.4.0->tensorflow-hub) (40.6.3)\n",
      "Installing collected packages: tensorflow-hub\n",
      "Successfully installed tensorflow-hub-0.4.0\n"
     ]
    }
   ],
   "source": []
  },
  {
   "cell_type": "markdown",
   "metadata": {},
   "source": [
    "## Elmo"
   ]
  },
  {
   "cell_type": "code",
   "execution_count": 91,
   "metadata": {},
   "outputs": [],
   "source": [
    "# Create a custom layer that allows us to update weights (lambda layers do not have trainable parameters!)\n",
    "# Import our dependencies\n",
    "import tensorflow as tf\n",
    "import pandas as pd\n",
    "import tensorflow_hub as hub\n",
    "import os\n",
    "import re\n",
    "from keras import backend as K\n",
    "import keras.layers as layers\n",
    "from keras.models import Model, load_model\n",
    "from keras.engine import Layer\n",
    "import numpy as np\n",
    "from keras.utils import to_categorical\n",
    "\n",
    "# Initialize session\n",
    "sess = tf.Session()\n",
    "K.set_session(sess)\n",
    "\n",
    "class ElmoEmbeddingLayer(Layer):\n",
    "    def __init__(self, **kwargs):\n",
    "        self.dimensions = 1024\n",
    "        self.trainable=True\n",
    "        super(ElmoEmbeddingLayer, self).__init__(**kwargs)\n",
    "\n",
    "    def build(self, input_shape):\n",
    "        self.elmo = hub.Module('https://tfhub.dev/google/elmo/2', trainable=self.trainable,\n",
    "                               name=\"{}_module\".format(self.name))\n",
    "\n",
    "        self.trainable_weights += K.tf.trainable_variables(scope=\"^{}_module/.*\".format(self.name))\n",
    "        super(ElmoEmbeddingLayer, self).build(input_shape)\n",
    "\n",
    "    def call(self, x, mask=None):\n",
    "        result = self.elmo(K.squeeze(K.cast(x, tf.string), axis=1),\n",
    "                      as_dict=True,\n",
    "                      signature='default',\n",
    "                      )['default']\n",
    "        return result\n",
    "\n",
    "    def compute_mask(self, inputs, mask=None):\n",
    "        return K.not_equal(inputs, '--PAD--')\n",
    "\n",
    "    def compute_output_shape(self, input_shape):\n",
    "        return (input_shape[0], self.dimensions)"
   ]
  },
  {
   "cell_type": "code",
   "execution_count": 95,
   "metadata": {},
   "outputs": [],
   "source": [
    "# Function to build model\n",
    "def build_model(): \n",
    "    input_text = layers.Input(shape=(1,), dtype=\"string\")\n",
    "    embedding = ElmoEmbeddingLayer()(input_text)\n",
    "    dense = layers.Dense(256, activation='relu')(embedding)\n",
    "    pred = layers.Dense(len(features), activation='sigmoid')(dense)\n",
    "\n",
    "    model = Model(inputs=[input_text], outputs=pred)\n",
    "\n",
    "    model.compile(loss='categorical_crossentropy', optimizer='adam', metrics=['accuracy'])\n",
    "    model.summary()\n",
    "\n",
    "    return model"
   ]
  },
  {
   "cell_type": "code",
   "execution_count": 96,
   "metadata": {},
   "outputs": [],
   "source": [
    "# Create datasets (Only take up to 150 words for memory)\n",
    "X_train, X_test, Y_train, Y_test = train_test_split(\n",
    "    df['content'], df['label'], test_size=0.20, random_state=42,stratify=Y)\n",
    "\n",
    "\n",
    "train_text = X_train.tolist()\n",
    "train_text = [' '.join(t.split()[0:25]) for t in train_text]\n",
    "train_text = np.array(train_text, dtype=object)[:, np.newaxis]\n",
    "train_label = to_categorical(Y_train.tolist())\n",
    "\n",
    "test_text = X_test.tolist()\n",
    "test_text = [' '.join(t.split()[0:25]) for t in test_text]\n",
    "test_text = np.array(test_text, dtype=object)[:, np.newaxis]\n",
    "test_label = to_categorical(Y_test.tolist())\n"
   ]
  },
  {
   "cell_type": "code",
   "execution_count": null,
   "metadata": {},
   "outputs": [
    {
     "name": "stdout",
     "output_type": "stream",
     "text": [
      "INFO:tensorflow:Saver not created because there are no variables in the graph to restore\n"
     ]
    },
    {
     "name": "stderr",
     "output_type": "stream",
     "text": [
      "I0516 11:52:30.780912 4527904192 saver.py:1483] Saver not created because there are no variables in the graph to restore\n"
     ]
    },
    {
     "name": "stdout",
     "output_type": "stream",
     "text": [
      "_________________________________________________________________\n",
      "Layer (type)                 Output Shape              Param #   \n",
      "=================================================================\n",
      "input_12 (InputLayer)        (None, 1)                 0         \n",
      "_________________________________________________________________\n",
      "elmo_embedding_layer_12 (Elm (None, 1024)              4         \n",
      "_________________________________________________________________\n",
      "dense_17 (Dense)             (None, 256)               262400    \n",
      "_________________________________________________________________\n",
      "dense_18 (Dense)             (None, 9)                 2313      \n",
      "=================================================================\n",
      "Total params: 264,717\n",
      "Trainable params: 264,717\n",
      "Non-trainable params: 0\n",
      "_________________________________________________________________\n",
      "Train on 30995 samples, validate on 7749 samples\n",
      "Epoch 1/10\n",
      "30995/30995 [==============================] - 2491s 80ms/step - loss: 1.8344 - acc: 0.3317 - val_loss: 1.7759 - val_acc: 0.3480\n",
      "\n",
      "Epoch 00001: val_loss improved from inf to 1.77589, saving model to elmo_best_weights.01-0.3480.hdf5\n",
      "Epoch 2/10\n",
      "30995/30995 [==============================] - 2419s 78ms/step - loss: 1.7397 - acc: 0.3655 - val_loss: 1.7628 - val_acc: 0.3607\n",
      "\n",
      "Epoch 00002: val_loss improved from 1.77589 to 1.76280, saving model to elmo_best_weights.02-0.3607.hdf5\n",
      "Epoch 3/10\n",
      "  384/30995 [..............................] - ETA: 35:05 - loss: 1.6999 - acc: 0.3932"
     ]
    }
   ],
   "source": [
    "# Build and fit\n",
    "model = build_model()\n",
    "\n",
    "filepath='elmo_best_weights.{epoch:02d}-{val_acc:.4f}.hdf5'\n",
    "checkpoint = ModelCheckpoint(filepath, monitor='val_loss',verbose=1,save_best_only=True,mode='auto')\n",
    "earlystop = EarlyStopping(monitor='val_loss', patience=5, min_delta=0.0001)\n",
    "\n",
    "history = model.fit(train_text, \n",
    "          train_label,\n",
    "          validation_data=(test_text, test_label),\n",
    "          epochs=10,\n",
    "          batch_size=128, callbacks=[checkpoint, earlystop])"
   ]
  },
  {
   "cell_type": "code",
   "execution_count": null,
   "metadata": {},
   "outputs": [],
   "source": [
    "plt.title('Accuracy')\n",
    "plt.plot(history.history['acc'], label='train')\n",
    "plt.plot(history.history['val_acc'], label='test')\n",
    "plt.legend()\n",
    "plt.show();\n",
    "\n",
    "plt.title('Loss')\n",
    "plt.plot(history.history['loss'], label='train')\n",
    "plt.plot(history.history['val_loss'], label='test')\n",
    "plt.legend()\n",
    "plt.show();"
   ]
  },
  {
   "cell_type": "code",
   "execution_count": null,
   "metadata": {},
   "outputs": [],
   "source": [
    "y_pred = model.predict_classes(X_test)\n",
    "print(classification_report(Y_test1, y_pred,target_names=features))"
   ]
  },
  {
   "cell_type": "code",
   "execution_count": null,
   "metadata": {},
   "outputs": [],
   "source": [
    "# model.save('ElmoModel.h5')\n",
    "# pre_save_preds = model.predict(test_text[0:100]) # predictions before we clear and reload model\n",
    "\n",
    "# # Clear and load model\n",
    "# model = None\n",
    "# model = build_model()\n",
    "# model.load_weights('ElmoModel.h5')"
   ]
  },
  {
   "cell_type": "markdown",
   "metadata": {},
   "source": [
    "# BERT"
   ]
  },
  {
   "cell_type": "code",
   "execution_count": null,
   "metadata": {},
   "outputs": [],
   "source": [
    "class BertLayer(tf.layers.Layer):\n",
    "    def __init__(self, n_fine_tune_layers=10, **kwargs):\n",
    "        self.n_fine_tune_layers = n_fine_tune_layers\n",
    "        self.trainable = True\n",
    "        self.output_size = 768\n",
    "        super(BertLayer, self).__init__(**kwargs)\n",
    "\n",
    "    def build(self, input_shape):\n",
    "        self.bert = hub.Module(\n",
    "            bert_path,\n",
    "            trainable=self.trainable,\n",
    "            name=\"{}_module\".format(self.name)\n",
    "        )\n",
    "        trainable_vars = self.bert.variables\n",
    "        \n",
    "        # Remove unused layers\n",
    "        trainable_vars = [var for var in trainable_vars if not \"/cls/\" in var.name]\n",
    "        \n",
    "        # Select how many layers to fine tune\n",
    "        trainable_vars = trainable_vars[-self.n_fine_tune_layers :]\n",
    "        \n",
    "        # Add to trainable weights\n",
    "        for var in trainable_vars:\n",
    "            self._trainable_weights.append(var)\n",
    "        \n",
    "        # Add non-trainable weights\n",
    "        for var in self.bert.variables:\n",
    "            if var not in self._trainable_weights:\n",
    "                self._non_trainable_weights.append(var)\n",
    "        \n",
    "        super(BertLayer, self).build(input_shape)\n",
    "\n",
    "    def call(self, inputs):\n",
    "        inputs = [K.cast(x, dtype=\"int32\") for x in inputs]\n",
    "        input_ids, input_mask, segment_ids = inputs\n",
    "        bert_inputs = dict(\n",
    "            input_ids=input_ids, input_mask=input_mask, segment_ids=segment_ids\n",
    "        )\n",
    "        result = self.bert(inputs=bert_inputs, signature=\"tokens\", as_dict=True)[\n",
    "            \"pooled_output\"\n",
    "        ]\n",
    "        return result\n",
    "\n",
    "    def compute_output_shape(self, input_shape):\n",
    "        return (input_shape[0], self.output_size)"
   ]
  },
  {
   "cell_type": "code",
   "execution_count": null,
   "metadata": {},
   "outputs": [],
   "source": [
    "# Build model\n",
    "in_id = tf.keras.layers.Input(shape=(max_seq_length,), name=\"input_ids\")\n",
    "in_mask = tf.keras.layers.Input(shape=(max_seq_length,), name=\"input_masks\")\n",
    "in_segment = tf.keras.layers.Input(shape=(max_seq_length,), name=\"segment_ids\")\n",
    "bert_inputs = [in_id, in_mask, in_segment]\n",
    "\n",
    "# Instantiate the custom Bert Layer defined above\n",
    "bert_output = BertLayer(n_fine_tune_layers=10)(bert_inputs)\n",
    "\n",
    "# Build the rest of the classifier \n",
    "dense = tf.keras.layers.Dense(256, activation='relu')(bert_output)\n",
    "pred = tf.keras.layers.Dense(1, activation='sigmoid')(dense)\n",
    "\n",
    "model = tf.keras.models.Model(inputs=bert_inputs, outputs=pred)\n",
    "model.compile(loss='categorical_crossentropy', optimizer='adam', metrics=['accuracy'])\n",
    "\n",
    "filepath='bert_best_weights.{epoch:02d}-{val_acc:.4f}.hdf5'\n",
    "checkpoint = ModelCheckpoint(filepath, monitor='val_loss',verbose=1,save_best_only=True,mode='auto')\n",
    "earlystop = EarlyStopping(monitor='val_loss', patience=5, min_delta=0.0001)\n",
    "\n",
    "\n",
    "history = model.fit(\n",
    "    X_train, Y_train,\n",
    "    validation_data=(X_test, Y_test),\n",
    "    epochs=10,\n",
    "    batch_size=128, callbacks=[checkpoint, earlystop]\n",
    ")"
   ]
  },
  {
   "cell_type": "code",
   "execution_count": null,
   "metadata": {},
   "outputs": [],
   "source": [
    "plt.title('Accuracy')\n",
    "plt.plot(history.history['acc'], label='train')\n",
    "plt.plot(history.history['val_acc'], label='test')\n",
    "plt.legend()\n",
    "plt.show();\n",
    "\n",
    "plt.title('Loss')\n",
    "plt.plot(history.history['loss'], label='train')\n",
    "plt.plot(history.history['val_loss'], label='test')\n",
    "plt.legend()\n",
    "plt.show();"
   ]
  },
  {
   "cell_type": "code",
   "execution_count": null,
   "metadata": {},
   "outputs": [],
   "source": [
    "y_pred = model.predict_classes(X_test)\n",
    "print(classification_report(Y_test1, y_pred,target_names=features))"
   ]
  },
  {
   "cell_type": "code",
   "execution_count": null,
   "metadata": {},
   "outputs": [],
   "source": []
  },
  {
   "cell_type": "code",
   "execution_count": null,
   "metadata": {},
   "outputs": [],
   "source": []
  },
  {
   "cell_type": "code",
   "execution_count": null,
   "metadata": {},
   "outputs": [],
   "source": []
  }
 ],
 "metadata": {
  "kernelspec": {
   "display_name": "Python 3",
   "language": "python",
   "name": "python3"
  },
  "language_info": {
   "codemirror_mode": {
    "name": "ipython",
    "version": 3
   },
   "file_extension": ".py",
   "mimetype": "text/x-python",
   "name": "python",
   "nbconvert_exporter": "python",
   "pygments_lexer": "ipython3",
   "version": "3.7.1"
  }
 },
 "nbformat": 4,
 "nbformat_minor": 2
}
